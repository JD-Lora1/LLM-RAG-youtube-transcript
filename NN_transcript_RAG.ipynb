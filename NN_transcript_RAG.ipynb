{
  "cells": [
    {
      "cell_type": "markdown",
      "metadata": {
        "id": "view-in-github",
        "colab_type": "text"
      },
      "source": [
        "<a href=\"https://colab.research.google.com/github/JD-Lora1/LLM-RAG-youtube-transcript/blob/main/NN_transcript_RAG.ipynb\" target=\"_parent\"><img src=\"https://colab.research.google.com/assets/colab-badge.svg\" alt=\"Open In Colab\"/></a>"
      ]
    },
    {
      "cell_type": "code",
      "execution_count": null,
      "metadata": {
        "colab": {
          "base_uri": "https://localhost:8080/"
        },
        "id": "lQQA2uICkREC",
        "outputId": "b3971b87-f55f-45f6-ff66-da11690b57b7"
      },
      "outputs": [
        {
          "output_type": "stream",
          "name": "stdout",
          "text": [
            "Requirement already satisfied: chromadb in /usr/local/lib/python3.12/dist-packages (1.0.20)\n",
            "Requirement already satisfied: sentence-transformers in /usr/local/lib/python3.12/dist-packages (5.1.0)\n",
            "Requirement already satisfied: youtube-transcript-api in /usr/local/lib/python3.12/dist-packages (1.2.2)\n",
            "Requirement already satisfied: build>=1.0.3 in /usr/local/lib/python3.12/dist-packages (from chromadb) (1.3.0)\n",
            "Requirement already satisfied: pydantic>=1.9 in /usr/local/lib/python3.12/dist-packages (from chromadb) (2.11.7)\n",
            "Requirement already satisfied: pybase64>=1.4.1 in /usr/local/lib/python3.12/dist-packages (from chromadb) (1.4.2)\n",
            "Requirement already satisfied: uvicorn>=0.18.3 in /usr/local/lib/python3.12/dist-packages (from uvicorn[standard]>=0.18.3->chromadb) (0.35.0)\n",
            "Requirement already satisfied: numpy>=1.22.5 in /usr/local/lib/python3.12/dist-packages (from chromadb) (2.0.2)\n",
            "Requirement already satisfied: posthog<6.0.0,>=2.4.0 in /usr/local/lib/python3.12/dist-packages (from chromadb) (5.4.0)\n",
            "Requirement already satisfied: typing-extensions>=4.5.0 in /usr/local/lib/python3.12/dist-packages (from chromadb) (4.14.1)\n",
            "Requirement already satisfied: onnxruntime>=1.14.1 in /usr/local/lib/python3.12/dist-packages (from chromadb) (1.22.1)\n",
            "Requirement already satisfied: opentelemetry-api>=1.2.0 in /usr/local/lib/python3.12/dist-packages (from chromadb) (1.36.0)\n",
            "Requirement already satisfied: opentelemetry-exporter-otlp-proto-grpc>=1.2.0 in /usr/local/lib/python3.12/dist-packages (from chromadb) (1.36.0)\n",
            "Requirement already satisfied: opentelemetry-sdk>=1.2.0 in /usr/local/lib/python3.12/dist-packages (from chromadb) (1.36.0)\n",
            "Requirement already satisfied: tokenizers>=0.13.2 in /usr/local/lib/python3.12/dist-packages (from chromadb) (0.21.4)\n",
            "Requirement already satisfied: pypika>=0.48.9 in /usr/local/lib/python3.12/dist-packages (from chromadb) (0.48.9)\n",
            "Requirement already satisfied: tqdm>=4.65.0 in /usr/local/lib/python3.12/dist-packages (from chromadb) (4.67.1)\n",
            "Requirement already satisfied: overrides>=7.3.1 in /usr/local/lib/python3.12/dist-packages (from chromadb) (7.7.0)\n",
            "Requirement already satisfied: importlib-resources in /usr/local/lib/python3.12/dist-packages (from chromadb) (6.5.2)\n",
            "Requirement already satisfied: grpcio>=1.58.0 in /usr/local/lib/python3.12/dist-packages (from chromadb) (1.74.0)\n",
            "Requirement already satisfied: bcrypt>=4.0.1 in /usr/local/lib/python3.12/dist-packages (from chromadb) (4.3.0)\n",
            "Requirement already satisfied: typer>=0.9.0 in /usr/local/lib/python3.12/dist-packages (from chromadb) (0.16.0)\n",
            "Requirement already satisfied: kubernetes>=28.1.0 in /usr/local/lib/python3.12/dist-packages (from chromadb) (33.1.0)\n",
            "Requirement already satisfied: tenacity>=8.2.3 in /usr/local/lib/python3.12/dist-packages (from chromadb) (8.5.0)\n",
            "Requirement already satisfied: pyyaml>=6.0.0 in /usr/local/lib/python3.12/dist-packages (from chromadb) (6.0.2)\n",
            "Requirement already satisfied: mmh3>=4.0.1 in /usr/local/lib/python3.12/dist-packages (from chromadb) (5.2.0)\n",
            "Requirement already satisfied: orjson>=3.9.12 in /usr/local/lib/python3.12/dist-packages (from chromadb) (3.11.2)\n",
            "Requirement already satisfied: httpx>=0.27.0 in /usr/local/lib/python3.12/dist-packages (from chromadb) (0.28.1)\n",
            "Requirement already satisfied: rich>=10.11.0 in /usr/local/lib/python3.12/dist-packages (from chromadb) (13.9.4)\n",
            "Requirement already satisfied: jsonschema>=4.19.0 in /usr/local/lib/python3.12/dist-packages (from chromadb) (4.25.1)\n",
            "Requirement already satisfied: transformers<5.0.0,>=4.41.0 in /usr/local/lib/python3.12/dist-packages (from sentence-transformers) (4.55.2)\n",
            "Requirement already satisfied: torch>=1.11.0 in /usr/local/lib/python3.12/dist-packages (from sentence-transformers) (2.8.0+cu126)\n",
            "Requirement already satisfied: scikit-learn in /usr/local/lib/python3.12/dist-packages (from sentence-transformers) (1.6.1)\n",
            "Requirement already satisfied: scipy in /usr/local/lib/python3.12/dist-packages (from sentence-transformers) (1.16.1)\n",
            "Requirement already satisfied: huggingface-hub>=0.20.0 in /usr/local/lib/python3.12/dist-packages (from sentence-transformers) (0.34.4)\n",
            "Requirement already satisfied: Pillow in /usr/local/lib/python3.12/dist-packages (from sentence-transformers) (11.3.0)\n",
            "Requirement already satisfied: defusedxml<0.8.0,>=0.7.1 in /usr/local/lib/python3.12/dist-packages (from youtube-transcript-api) (0.7.1)\n",
            "Requirement already satisfied: requests in /usr/local/lib/python3.12/dist-packages (from youtube-transcript-api) (2.32.4)\n",
            "Requirement already satisfied: packaging>=19.1 in /usr/local/lib/python3.12/dist-packages (from build>=1.0.3->chromadb) (25.0)\n",
            "Requirement already satisfied: pyproject_hooks in /usr/local/lib/python3.12/dist-packages (from build>=1.0.3->chromadb) (1.2.0)\n",
            "Requirement already satisfied: anyio in /usr/local/lib/python3.12/dist-packages (from httpx>=0.27.0->chromadb) (4.10.0)\n",
            "Requirement already satisfied: certifi in /usr/local/lib/python3.12/dist-packages (from httpx>=0.27.0->chromadb) (2025.8.3)\n",
            "Requirement already satisfied: httpcore==1.* in /usr/local/lib/python3.12/dist-packages (from httpx>=0.27.0->chromadb) (1.0.9)\n",
            "Requirement already satisfied: idna in /usr/local/lib/python3.12/dist-packages (from httpx>=0.27.0->chromadb) (3.10)\n",
            "Requirement already satisfied: h11>=0.16 in /usr/local/lib/python3.12/dist-packages (from httpcore==1.*->httpx>=0.27.0->chromadb) (0.16.0)\n",
            "Requirement already satisfied: filelock in /usr/local/lib/python3.12/dist-packages (from huggingface-hub>=0.20.0->sentence-transformers) (3.19.1)\n",
            "Requirement already satisfied: fsspec>=2023.5.0 in /usr/local/lib/python3.12/dist-packages (from huggingface-hub>=0.20.0->sentence-transformers) (2025.3.0)\n",
            "Requirement already satisfied: hf-xet<2.0.0,>=1.1.3 in /usr/local/lib/python3.12/dist-packages (from huggingface-hub>=0.20.0->sentence-transformers) (1.1.7)\n",
            "Requirement already satisfied: attrs>=22.2.0 in /usr/local/lib/python3.12/dist-packages (from jsonschema>=4.19.0->chromadb) (25.3.0)\n",
            "Requirement already satisfied: jsonschema-specifications>=2023.03.6 in /usr/local/lib/python3.12/dist-packages (from jsonschema>=4.19.0->chromadb) (2025.4.1)\n",
            "Requirement already satisfied: referencing>=0.28.4 in /usr/local/lib/python3.12/dist-packages (from jsonschema>=4.19.0->chromadb) (0.36.2)\n",
            "Requirement already satisfied: rpds-py>=0.7.1 in /usr/local/lib/python3.12/dist-packages (from jsonschema>=4.19.0->chromadb) (0.27.0)\n",
            "Requirement already satisfied: six>=1.9.0 in /usr/local/lib/python3.12/dist-packages (from kubernetes>=28.1.0->chromadb) (1.17.0)\n",
            "Requirement already satisfied: python-dateutil>=2.5.3 in /usr/local/lib/python3.12/dist-packages (from kubernetes>=28.1.0->chromadb) (2.9.0.post0)\n",
            "Requirement already satisfied: google-auth>=1.0.1 in /usr/local/lib/python3.12/dist-packages (from kubernetes>=28.1.0->chromadb) (2.38.0)\n",
            "Requirement already satisfied: websocket-client!=0.40.0,!=0.41.*,!=0.42.*,>=0.32.0 in /usr/local/lib/python3.12/dist-packages (from kubernetes>=28.1.0->chromadb) (1.8.0)\n",
            "Requirement already satisfied: requests-oauthlib in /usr/local/lib/python3.12/dist-packages (from kubernetes>=28.1.0->chromadb) (2.0.0)\n",
            "Requirement already satisfied: oauthlib>=3.2.2 in /usr/local/lib/python3.12/dist-packages (from kubernetes>=28.1.0->chromadb) (3.3.1)\n",
            "Requirement already satisfied: urllib3>=1.24.2 in /usr/local/lib/python3.12/dist-packages (from kubernetes>=28.1.0->chromadb) (2.5.0)\n",
            "Requirement already satisfied: durationpy>=0.7 in /usr/local/lib/python3.12/dist-packages (from kubernetes>=28.1.0->chromadb) (0.10)\n",
            "Requirement already satisfied: coloredlogs in /usr/local/lib/python3.12/dist-packages (from onnxruntime>=1.14.1->chromadb) (15.0.1)\n",
            "Requirement already satisfied: flatbuffers in /usr/local/lib/python3.12/dist-packages (from onnxruntime>=1.14.1->chromadb) (25.2.10)\n",
            "Requirement already satisfied: protobuf in /usr/local/lib/python3.12/dist-packages (from onnxruntime>=1.14.1->chromadb) (5.29.5)\n",
            "Requirement already satisfied: sympy in /usr/local/lib/python3.12/dist-packages (from onnxruntime>=1.14.1->chromadb) (1.13.3)\n",
            "Requirement already satisfied: importlib-metadata<8.8.0,>=6.0 in /usr/local/lib/python3.12/dist-packages (from opentelemetry-api>=1.2.0->chromadb) (8.7.0)\n",
            "Requirement already satisfied: googleapis-common-protos~=1.57 in /usr/local/lib/python3.12/dist-packages (from opentelemetry-exporter-otlp-proto-grpc>=1.2.0->chromadb) (1.70.0)\n",
            "Requirement already satisfied: opentelemetry-exporter-otlp-proto-common==1.36.0 in /usr/local/lib/python3.12/dist-packages (from opentelemetry-exporter-otlp-proto-grpc>=1.2.0->chromadb) (1.36.0)\n",
            "Requirement already satisfied: opentelemetry-proto==1.36.0 in /usr/local/lib/python3.12/dist-packages (from opentelemetry-exporter-otlp-proto-grpc>=1.2.0->chromadb) (1.36.0)\n",
            "Requirement already satisfied: opentelemetry-semantic-conventions==0.57b0 in /usr/local/lib/python3.12/dist-packages (from opentelemetry-sdk>=1.2.0->chromadb) (0.57b0)\n",
            "Requirement already satisfied: backoff>=1.10.0 in /usr/local/lib/python3.12/dist-packages (from posthog<6.0.0,>=2.4.0->chromadb) (2.2.1)\n",
            "Requirement already satisfied: distro>=1.5.0 in /usr/local/lib/python3.12/dist-packages (from posthog<6.0.0,>=2.4.0->chromadb) (1.9.0)\n",
            "Requirement already satisfied: annotated-types>=0.6.0 in /usr/local/lib/python3.12/dist-packages (from pydantic>=1.9->chromadb) (0.7.0)\n",
            "Requirement already satisfied: pydantic-core==2.33.2 in /usr/local/lib/python3.12/dist-packages (from pydantic>=1.9->chromadb) (2.33.2)\n",
            "Requirement already satisfied: typing-inspection>=0.4.0 in /usr/local/lib/python3.12/dist-packages (from pydantic>=1.9->chromadb) (0.4.1)\n",
            "Requirement already satisfied: charset_normalizer<4,>=2 in /usr/local/lib/python3.12/dist-packages (from requests->youtube-transcript-api) (3.4.3)\n",
            "Requirement already satisfied: markdown-it-py>=2.2.0 in /usr/local/lib/python3.12/dist-packages (from rich>=10.11.0->chromadb) (4.0.0)\n",
            "Requirement already satisfied: pygments<3.0.0,>=2.13.0 in /usr/local/lib/python3.12/dist-packages (from rich>=10.11.0->chromadb) (2.19.2)\n",
            "Requirement already satisfied: setuptools in /usr/local/lib/python3.12/dist-packages (from torch>=1.11.0->sentence-transformers) (75.2.0)\n",
            "Requirement already satisfied: networkx in /usr/local/lib/python3.12/dist-packages (from torch>=1.11.0->sentence-transformers) (3.5)\n",
            "Requirement already satisfied: jinja2 in /usr/local/lib/python3.12/dist-packages (from torch>=1.11.0->sentence-transformers) (3.1.6)\n",
            "Requirement already satisfied: nvidia-cuda-nvrtc-cu12==12.6.77 in /usr/local/lib/python3.12/dist-packages (from torch>=1.11.0->sentence-transformers) (12.6.77)\n",
            "Requirement already satisfied: nvidia-cuda-runtime-cu12==12.6.77 in /usr/local/lib/python3.12/dist-packages (from torch>=1.11.0->sentence-transformers) (12.6.77)\n",
            "Requirement already satisfied: nvidia-cuda-cupti-cu12==12.6.80 in /usr/local/lib/python3.12/dist-packages (from torch>=1.11.0->sentence-transformers) (12.6.80)\n",
            "Requirement already satisfied: nvidia-cudnn-cu12==9.10.2.21 in /usr/local/lib/python3.12/dist-packages (from torch>=1.11.0->sentence-transformers) (9.10.2.21)\n",
            "Requirement already satisfied: nvidia-cublas-cu12==12.6.4.1 in /usr/local/lib/python3.12/dist-packages (from torch>=1.11.0->sentence-transformers) (12.6.4.1)\n",
            "Requirement already satisfied: nvidia-cufft-cu12==11.3.0.4 in /usr/local/lib/python3.12/dist-packages (from torch>=1.11.0->sentence-transformers) (11.3.0.4)\n",
            "Requirement already satisfied: nvidia-curand-cu12==10.3.7.77 in /usr/local/lib/python3.12/dist-packages (from torch>=1.11.0->sentence-transformers) (10.3.7.77)\n",
            "Requirement already satisfied: nvidia-cusolver-cu12==11.7.1.2 in /usr/local/lib/python3.12/dist-packages (from torch>=1.11.0->sentence-transformers) (11.7.1.2)\n",
            "Requirement already satisfied: nvidia-cusparse-cu12==12.5.4.2 in /usr/local/lib/python3.12/dist-packages (from torch>=1.11.0->sentence-transformers) (12.5.4.2)\n",
            "Requirement already satisfied: nvidia-cusparselt-cu12==0.7.1 in /usr/local/lib/python3.12/dist-packages (from torch>=1.11.0->sentence-transformers) (0.7.1)\n",
            "Requirement already satisfied: nvidia-nccl-cu12==2.27.3 in /usr/local/lib/python3.12/dist-packages (from torch>=1.11.0->sentence-transformers) (2.27.3)\n",
            "Requirement already satisfied: nvidia-nvtx-cu12==12.6.77 in /usr/local/lib/python3.12/dist-packages (from torch>=1.11.0->sentence-transformers) (12.6.77)\n",
            "Requirement already satisfied: nvidia-nvjitlink-cu12==12.6.85 in /usr/local/lib/python3.12/dist-packages (from torch>=1.11.0->sentence-transformers) (12.6.85)\n",
            "Requirement already satisfied: nvidia-cufile-cu12==1.11.1.6 in /usr/local/lib/python3.12/dist-packages (from torch>=1.11.0->sentence-transformers) (1.11.1.6)\n",
            "Requirement already satisfied: triton==3.4.0 in /usr/local/lib/python3.12/dist-packages (from torch>=1.11.0->sentence-transformers) (3.4.0)\n",
            "Requirement already satisfied: regex!=2019.12.17 in /usr/local/lib/python3.12/dist-packages (from transformers<5.0.0,>=4.41.0->sentence-transformers) (2024.11.6)\n",
            "Requirement already satisfied: safetensors>=0.4.3 in /usr/local/lib/python3.12/dist-packages (from transformers<5.0.0,>=4.41.0->sentence-transformers) (0.6.2)\n",
            "Requirement already satisfied: click>=8.0.0 in /usr/local/lib/python3.12/dist-packages (from typer>=0.9.0->chromadb) (8.2.1)\n",
            "Requirement already satisfied: shellingham>=1.3.0 in /usr/local/lib/python3.12/dist-packages (from typer>=0.9.0->chromadb) (1.5.4)\n",
            "Requirement already satisfied: httptools>=0.6.3 in /usr/local/lib/python3.12/dist-packages (from uvicorn[standard]>=0.18.3->chromadb) (0.6.4)\n",
            "Requirement already satisfied: python-dotenv>=0.13 in /usr/local/lib/python3.12/dist-packages (from uvicorn[standard]>=0.18.3->chromadb) (1.1.1)\n",
            "Requirement already satisfied: uvloop>=0.15.1 in /usr/local/lib/python3.12/dist-packages (from uvicorn[standard]>=0.18.3->chromadb) (0.21.0)\n",
            "Requirement already satisfied: watchfiles>=0.13 in /usr/local/lib/python3.12/dist-packages (from uvicorn[standard]>=0.18.3->chromadb) (1.1.0)\n",
            "Requirement already satisfied: websockets>=10.4 in /usr/local/lib/python3.12/dist-packages (from uvicorn[standard]>=0.18.3->chromadb) (15.0.1)\n",
            "Requirement already satisfied: joblib>=1.2.0 in /usr/local/lib/python3.12/dist-packages (from scikit-learn->sentence-transformers) (1.5.1)\n",
            "Requirement already satisfied: threadpoolctl>=3.1.0 in /usr/local/lib/python3.12/dist-packages (from scikit-learn->sentence-transformers) (3.6.0)\n",
            "Requirement already satisfied: cachetools<6.0,>=2.0.0 in /usr/local/lib/python3.12/dist-packages (from google-auth>=1.0.1->kubernetes>=28.1.0->chromadb) (5.5.2)\n",
            "Requirement already satisfied: pyasn1-modules>=0.2.1 in /usr/local/lib/python3.12/dist-packages (from google-auth>=1.0.1->kubernetes>=28.1.0->chromadb) (0.4.2)\n",
            "Requirement already satisfied: rsa<5,>=3.1.4 in /usr/local/lib/python3.12/dist-packages (from google-auth>=1.0.1->kubernetes>=28.1.0->chromadb) (4.9.1)\n",
            "Requirement already satisfied: zipp>=3.20 in /usr/local/lib/python3.12/dist-packages (from importlib-metadata<8.8.0,>=6.0->opentelemetry-api>=1.2.0->chromadb) (3.23.0)\n",
            "Requirement already satisfied: mdurl~=0.1 in /usr/local/lib/python3.12/dist-packages (from markdown-it-py>=2.2.0->rich>=10.11.0->chromadb) (0.1.2)\n",
            "Requirement already satisfied: mpmath<1.4,>=1.1.0 in /usr/local/lib/python3.12/dist-packages (from sympy->onnxruntime>=1.14.1->chromadb) (1.3.0)\n",
            "Requirement already satisfied: sniffio>=1.1 in /usr/local/lib/python3.12/dist-packages (from anyio->httpx>=0.27.0->chromadb) (1.3.1)\n",
            "Requirement already satisfied: humanfriendly>=9.1 in /usr/local/lib/python3.12/dist-packages (from coloredlogs->onnxruntime>=1.14.1->chromadb) (10.0)\n",
            "Requirement already satisfied: MarkupSafe>=2.0 in /usr/local/lib/python3.12/dist-packages (from jinja2->torch>=1.11.0->sentence-transformers) (3.0.2)\n",
            "Requirement already satisfied: pyasn1<0.7.0,>=0.6.1 in /usr/local/lib/python3.12/dist-packages (from pyasn1-modules>=0.2.1->google-auth>=1.0.1->kubernetes>=28.1.0->chromadb) (0.6.1)\n"
          ]
        }
      ],
      "source": [
        "!pip install chromadb sentence-transformers youtube-transcript-api"
      ]
    },
    {
      "cell_type": "markdown",
      "metadata": {
        "id": "lzwppfMJxYUj"
      },
      "source": [
        "Prueba de API"
      ]
    },
    {
      "cell_type": "code",
      "execution_count": null,
      "metadata": {
        "colab": {
          "base_uri": "https://localhost:8080/"
        },
        "id": "LrTgSca14yF-",
        "outputId": "c3035dba-cd35-4953-e3df-dbf48c931a31"
      },
      "outputs": [
        {
          "output_type": "stream",
          "name": "stdout",
          "text": [
            "FetchedTranscript(snippets=[FetchedTranscriptSnippet(text='good morning', start=46.16, duration=5.28), FetchedTranscriptSnippet(text=\"so i'll switch now to english uh\", start=47.12, duration=7.52), FetchedTranscriptSnippet(text=\"i think it's the it's the language tedx\", start=51.44, duration=4.639), FetchedTranscriptSnippet(text='language first of all', start=54.64, duration=5.2), FetchedTranscriptSnippet(text='andre the rest all the organizers thank', start=56.079, duration=5.761), FetchedTranscriptSnippet(text=\"you very much for your invitation it's\", start=59.84, duration=4.16), FetchedTranscriptSnippet(text='uh with the an enormous pleasure that', start=61.84, duration=3.12), FetchedTranscriptSnippet(text=\"i'm here\", start=64.0, duration=4.32), FetchedTranscriptSnippet(text='uh talking about my dream and', start=64.96, duration=6.08), FetchedTranscriptSnippet(text='trying to spread also the word uh what', start=68.32, duration=5.68), FetchedTranscriptSnippet(text='is my idea what do i want to do', start=71.04, duration=5.92), FetchedTranscriptSnippet(text=\"the the name of my presentation is it's\", start=74.0, duration=4.64), FetchedTranscriptSnippet(text='called blogging for a dream i think you', start=76.96, duration=2.32), FetchedTranscriptSnippet(text='will', start=78.64, duration=2.799), FetchedTranscriptSnippet(text=\"identify what's this this is antarctica\", start=79.28, duration=3.28), FetchedTranscriptSnippet(text='this is the most', start=81.439, duration=3.761), FetchedTranscriptSnippet(text='southern most southern continent of the', start=82.56, duration=4.32), FetchedTranscriptSnippet(text='world', start=85.2, duration=5.04), FetchedTranscriptSnippet(text='this will be a pretty light easygoing', start=86.88, duration=5.04), FetchedTranscriptSnippet(text='presentation', start=90.24, duration=4.879), FetchedTranscriptSnippet(text='i hope you enjoy it and', start=91.92, duration=7.12), FetchedTranscriptSnippet(text='this happened two months ago', start=95.119, duration=8.081), FetchedTranscriptSnippet(text='i received an email from from a company', start=99.04, duration=6.64), FetchedTranscriptSnippet(text='a north american company called quark', start=103.2, duration=3.68), FetchedTranscriptSnippet(text='expeditions', start=105.68, duration=4.24), FetchedTranscriptSnippet(text='on this email i had i was', start=106.88, duration=6.96), FetchedTranscriptSnippet(text='they were challenging me something like', start=109.92, duration=8.4), FetchedTranscriptSnippet(text='luis monteiro i know you are', start=113.84, duration=7.279), FetchedTranscriptSnippet(text='interest interested in the antarctica', start=118.32, duration=3.6), FetchedTranscriptSnippet(text='and the', start=121.119, duration=4.241), FetchedTranscriptSnippet(text='things that surround the antarctic', start=121.92, duration=6.479), FetchedTranscriptSnippet(text='so i challenge you to enter in a', start=125.36, duration=4.56), FetchedTranscriptSnippet(text='competition', start=128.399, duration=4.56), FetchedTranscriptSnippet(text='where you could win a trip to antarctica', start=129.92, duration=5.28), FetchedTranscriptSnippet(text='okay', start=132.959, duration=2.241), FetchedTranscriptSnippet(text='this email had something like three four', start=137.76, duration=4.0), FetchedTranscriptSnippet(text='questions', start=139.84, duration=3.92), FetchedTranscriptSnippet(text='first question to enter in the', start=141.76, duration=3.44), FetchedTranscriptSnippet(text='competition', start=143.76, duration=4.0), FetchedTranscriptSnippet(text='do you have a passion for polar regions', start=145.2, duration=3.119), FetchedTranscriptSnippet(text='well', start=147.76, duration=3.04), FetchedTranscriptSnippet(text='this question to me is pretty simple to', start=148.319, duration=5.121), FetchedTranscriptSnippet(text='to answer because', start=150.8, duration=7.04), FetchedTranscriptSnippet(text=\"the past 10 years i've been\", start=153.44, duration=4.4), FetchedTranscriptSnippet(text='totally committed in', start=158.64, duration=6.239), FetchedTranscriptSnippet(text='a dream that had grown', start=161.84, duration=6.08), FetchedTranscriptSnippet(text='within the years i started 10 years ago', start=164.879, duration=6.161), FetchedTranscriptSnippet(text='watching the stories and tv', start=167.92, duration=6.0), FetchedTranscriptSnippet(text='series regarding bbc tv series national', start=171.04, duration=5.04), FetchedTranscriptSnippet(text='geographic regarding the antarctica', start=173.92, duration=4.239), FetchedTranscriptSnippet(text='i started investigating a little bit', start=176.08, duration=3.84), FetchedTranscriptSnippet(text='more trying to understand', start=178.159, duration=4.561), FetchedTranscriptSnippet(text=\"what is what is this continent what it's\", start=179.92, duration=4.399), FetchedTranscriptSnippet(text='all about', start=182.72, duration=3.92), FetchedTranscriptSnippet(text='and i got fashion fascinated completely', start=184.319, duration=3.84), FetchedTranscriptSnippet(text='fascinated for it', start=186.64, duration=4.56), FetchedTranscriptSnippet(text=\"right now my house it's like a frozen\", start=188.159, duration=6.561), FetchedTranscriptSnippet(text='fridge but', start=191.2, duration=5.92), FetchedTranscriptSnippet(text='but without the ice something like that', start=194.72, duration=3.76), FetchedTranscriptSnippet(text='i have', start=197.12, duration=5.68), FetchedTranscriptSnippet(text='magazines postcards dvds books', start=198.48, duration=6.88), FetchedTranscriptSnippet(text=\"i love the antarctic and it's difficult\", start=202.8, duration=3.999), FetchedTranscriptSnippet(text='to explain', start=205.36, duration=4.0), FetchedTranscriptSnippet(text='why are you why do you have a passion do', start=206.799, duration=3.121), FetchedTranscriptSnippet(text='you know i', start=209.36, duration=2.959), FetchedTranscriptSnippet(text='love your wife or do you know why you', start=209.92, duration=3.599), FetchedTranscriptSnippet(text='love your kids', start=212.319, duration=4.081), FetchedTranscriptSnippet(text=\"something you can't explain so for me uh\", start=213.519, duration=3.921), FetchedTranscriptSnippet(text='what i would like to', start=216.4, duration=4.8), FetchedTranscriptSnippet(text='to show you is that uh', start=217.44, duration=6.0), FetchedTranscriptSnippet(text=\"it's a bit difficult to to explain a\", start=221.2, duration=3.2), FetchedTranscriptSnippet(text='passion right', start=223.44, duration=4.799), FetchedTranscriptSnippet(text='i think we all have this this difficulty', start=224.4, duration=5.36), FetchedTranscriptSnippet(text='but i would like to ask you to close', start=228.239, duration=3.601), FetchedTranscriptSnippet(text='your eyes for 20 seconds', start=229.76, duration=4.72), FetchedTranscriptSnippet(text='and to hear a sound that was recorded', start=231.84, duration=3.679), FetchedTranscriptSnippet(text='and that was', start=234.48, duration=4.56), FetchedTranscriptSnippet(text='uh that was sent to me by someone that', start=235.519, duration=6.72), FetchedTranscriptSnippet(text='knows this dream that took', start=239.04, duration=5.36), FetchedTranscriptSnippet(text=\"the took part of this stream it's quite\", start=242.239, duration=4.481), FetchedTranscriptSnippet(text=\"a bit it's a sound recorded\", start=244.4, duration=5.039), FetchedTranscriptSnippet(text='in the antarctica so what i ask you is', start=246.72, duration=3.36), FetchedTranscriptSnippet(text='just', start=249.439, duration=5.041), FetchedTranscriptSnippet(text='close your eyes for 20 seconds and uh', start=250.08, duration=7.439), FetchedTranscriptSnippet(text='try to imagine something please just', start=254.48, duration=5.36), FetchedTranscriptSnippet(text='click on the', start=257.519, duration=7.201), FetchedTranscriptSnippet(text='yeah no problem as you wish', start=259.84, duration=4.88), FetchedTranscriptSnippet(text='please close your eyes 20 seconds', start=265.6, duration=4.08), FetchedTranscriptSnippet(text='nothing special', start=267.6, duration=16.24), FetchedTranscriptSnippet(text='and be part of this world', start=269.68, duration=14.16), FetchedTranscriptSnippet(text=\"that's\", start=294.84, duration=3.0), FetchedTranscriptSnippet(text=\"thank you did you feel anything it's\", start=301.84, duration=6.48), FetchedTranscriptSnippet(text=\"it's immersive right it's it's\", start=305.199, duration=5.601), FetchedTranscriptSnippet(text=\"strong it's the sound of a glacier you\", start=308.32, duration=3.12), FetchedTranscriptSnippet(text='are going', start=310.8, duration=3.36), FetchedTranscriptSnippet(text=\"you are in a it's the sound of a glacier\", start=311.44, duration=4.4), FetchedTranscriptSnippet(text='cracking', start=314.16, duration=4.24), FetchedTranscriptSnippet(text='and in the antarctica you will feel uh', start=315.84, duration=3.919), FetchedTranscriptSnippet(text='the the', start=318.4, duration=3.12), FetchedTranscriptSnippet(text='you will feel that you are in the', start=319.759, duration=3.841), FetchedTranscriptSnippet(text='complete', start=321.52, duration=4.08), FetchedTranscriptSnippet(text='untouched the most unspoiled and', start=323.6, duration=3.28), FetchedTranscriptSnippet(text='untouched place', start=325.6, duration=3.84), FetchedTranscriptSnippet(text='and at earth and well we have to', start=326.88, duration=3.28), FetchedTranscriptSnippet(text='preserve it', start=329.44, duration=3.039), FetchedTranscriptSnippet(text=\"so i think i've passed a little bit what\", start=330.16, duration=4.08), FetchedTranscriptSnippet(text='is this passion second question they', start=332.479, duration=3.041), FetchedTranscriptSnippet(text='asked me', start=334.24, duration=3.519), FetchedTranscriptSnippet(text='are you committed to the environment', start=335.52, duration=3.679), FetchedTranscriptSnippet(text='well i think', start=337.759, duration=5.201), FetchedTranscriptSnippet(text='we all right now we we always', start=339.199, duration=7.601), FetchedTranscriptSnippet(text='uh sorry we of course we are committed', start=342.96, duration=5.28), FetchedTranscriptSnippet(text='to the environment and of course i am', start=346.8, duration=2.239), FetchedTranscriptSnippet(text='committed', start=348.24, duration=4.239), FetchedTranscriptSnippet(text='i try the best as i can to at work', start=349.039, duration=6.561), FetchedTranscriptSnippet(text='at home in my community to reuse to', start=352.479, duration=6.401), FetchedTranscriptSnippet(text='recycle the three hours', start=355.6, duration=7.2), FetchedTranscriptSnippet(text='and to reduce of course', start=358.88, duration=7.439), FetchedTranscriptSnippet(text='so right now global warming is', start=362.8, duration=5.44), FetchedTranscriptSnippet(text=\"killing the arctic and it's killing the\", start=366.319, duration=3.44), FetchedTranscriptSnippet(text='entirety', start=368.24, duration=4.56), FetchedTranscriptSnippet(text=\"so i'm not here uh\", start=369.759, duration=5.44), FetchedTranscriptSnippet(text=\"i'm not an ecologist or a scientist in\", start=372.8, duration=5.92), FetchedTranscriptSnippet(text='fact i am an i.t consultant so', start=375.199, duration=5.601), FetchedTranscriptSnippet(text='something uh different an i.t consultant', start=378.72, duration=4.0), FetchedTranscriptSnippet(text='that wants to go to antarctica', start=380.8, duration=6.8), FetchedTranscriptSnippet(text=\"uh strange it's terrible\", start=382.72, duration=4.88), FetchedTranscriptSnippet(text='so uh of course i am committed and of', start=387.759, duration=3.601), FetchedTranscriptSnippet(text='course i', start=390.56, duration=3.199), FetchedTranscriptSnippet(text='if i take this chance if i take this', start=391.36, duration=3.92), FetchedTranscriptSnippet(text='chance on this competition of course i', start=393.759, duration=2.961), FetchedTranscriptSnippet(text='will take advantage of it', start=395.28, duration=4.639), FetchedTranscriptSnippet(text='and try to spread the word the word of', start=396.72, duration=6.88), FetchedTranscriptSnippet(text='how this is affecting the antarctic okay', start=399.919, duration=7.28), FetchedTranscriptSnippet(text='another question that was made to me', start=403.6, duration=5.52), FetchedTranscriptSnippet(text='do you have an insatiable urge to', start=407.199, duration=4.161), FetchedTranscriptSnippet(text='photograph penguins', start=409.12, duration=4.96), FetchedTranscriptSnippet(text=\"uh i really don't think i have to answer\", start=411.36, duration=3.92), FetchedTranscriptSnippet(text='this', start=414.08, duration=5.679), FetchedTranscriptSnippet(text='because this is my workplace', start=415.28, duration=7.68), FetchedTranscriptSnippet(text='so as you can see i have this', start=419.759, duration=5.521), FetchedTranscriptSnippet(text='little collection about of penguins', start=422.96, duration=4.72), FetchedTranscriptSnippet(text=\"penguin a penguin it's my favorite\", start=425.28, duration=6.479), FetchedTranscriptSnippet(text=\"animal it's the most\", start=427.68, duration=7.84), FetchedTranscriptSnippet(text=\"it's the funniest and it's also the\", start=431.759, duration=6.241), FetchedTranscriptSnippet(text='most amazing animal have you seen a', start=435.52, duration=3.28), FetchedTranscriptSnippet(text='penguin', start=438.0, duration=5.039), FetchedTranscriptSnippet(text=\"underwater it's like a jet\", start=438.8, duration=9.36), FetchedTranscriptSnippet(text=\"so he sees some krill it's amazing\", start=443.039, duration=5.121), FetchedTranscriptSnippet(text='what about blogging do you blog with', start=448.8, duration=3.519), FetchedTranscriptSnippet(text='something', start=451.039, duration=4.481), FetchedTranscriptSnippet(text='quite simple well in fact yes i do blog', start=452.319, duration=4.401), FetchedTranscriptSnippet(text=\"i've been blogging for\", start=455.52, duration=4.56), FetchedTranscriptSnippet(text='since 2002. i start blogging because', start=456.72, duration=6.16), FetchedTranscriptSnippet(text=\"i've worked abroad for three years now\", start=460.08, duration=4.799), FetchedTranscriptSnippet(text=\"i've worked in serbia\", start=462.88, duration=5.039), FetchedTranscriptSnippet(text=\"i've worked in brazil and in belgium and\", start=464.879, duration=4.0), FetchedTranscriptSnippet(text='i wanted', start=467.919, duration=4.72), FetchedTranscriptSnippet(text='that i wanted that my family would be', start=468.879, duration=5.681), FetchedTranscriptSnippet(text='part and would know what i what i was', start=472.639, duration=3.761), FetchedTranscriptSnippet(text='doing around there so', start=474.56, duration=4.0), FetchedTranscriptSnippet(text=\"i created a blog a personal blog it's\", start=476.4, duration=4.079), FetchedTranscriptSnippet(text=\"written in portuguese it's called\", start=478.56, duration=4.56), FetchedTranscriptSnippet(text='stone blog in fact the blog is called', start=480.479, duration=5.201), FetchedTranscriptSnippet(text='storynet', start=483.12, duration=5.759), FetchedTranscriptSnippet(text='means in portuguese it means i am i am', start=485.68, duration=4.48), FetchedTranscriptSnippet(text='on the internet', start=488.879, duration=3.681), FetchedTranscriptSnippet(text='this is what i would like to to to pass', start=490.16, duration=3.36), FetchedTranscriptSnippet(text='this is what i', start=492.56, duration=2.8), FetchedTranscriptSnippet(text='i wanted to pass for my family and for', start=493.52, duration=4.239), FetchedTranscriptSnippet(text=\"my friends okay i'm not with you guys\", start=495.36, duration=5.119), FetchedTranscriptSnippet(text=\"but i'm on the internet so go check in\", start=497.759, duration=3.28), FetchedTranscriptSnippet(text='there', start=500.479, duration=2.881), FetchedTranscriptSnippet(text=\"and what i what are right there it's\", start=501.039, duration=3.681), FetchedTranscriptSnippet(text='comic and tragic', start=503.36, duration=3.92), FetchedTranscriptSnippet(text='life stories diaries in portuguese', start=504.72, duration=3.599), FetchedTranscriptSnippet(text='password', start=507.28, duration=3.44), FetchedTranscriptSnippet(text=\"this is i'm really really excited this\", start=508.319, duration=4.4), FetchedTranscriptSnippet(text='is my last post in my personal blog', start=510.72, duration=3.439), FetchedTranscriptSnippet(text=\"that i'm really excited that for the\", start=512.719, duration=3.281), FetchedTranscriptSnippet(text='first time i went to my car to the', start=514.159, duration=3.601), FetchedTranscriptSnippet(text='inspection vehicle inspection and it', start=516.0, duration=2.399), FetchedTranscriptSnippet(text='best', start=517.76, duration=4.0), FetchedTranscriptSnippet(text='and believe me i tried to go to an', start=518.399, duration=6.161), FetchedTranscriptSnippet(text='inspection at 8 00 a.m in second vine', start=521.76, duration=6.88), FetchedTranscriptSnippet(text=\"and you will know what i'm talking about\", start=524.56, duration=4.08), FetchedTranscriptSnippet(text='so what i did i created the post on the', start=529.519, duration=5.201), FetchedTranscriptSnippet(text='quark expedition website', start=532.72, duration=5.679), FetchedTranscriptSnippet(text=\"and i've placed the name of my post it's\", start=534.72, duration=5.119), FetchedTranscriptSnippet(text='gonna be legendary', start=538.399, duration=4.401), FetchedTranscriptSnippet(text=\"it's a famous sentence of a tv series\", start=539.839, duration=4.161), FetchedTranscriptSnippet(text='and i wanted', start=542.8, duration=4.719), FetchedTranscriptSnippet(text='to to pass to everybody which could vote', start=544.0, duration=4.08), FetchedTranscriptSnippet(text='on me', start=547.519, duration=3.521), FetchedTranscriptSnippet(text='for for this competition that if i win', start=548.08, duration=3.84), FetchedTranscriptSnippet(text='this', start=551.04, duration=3.84), FetchedTranscriptSnippet(text=\"i'm gonna be creative i'm gonna be uh\", start=551.92, duration=4.88), FetchedTranscriptSnippet(text=\"i'm gonna give the best of me\", start=554.88, duration=5.04), FetchedTranscriptSnippet(text='and i will uh i will', start=556.8, duration=6.24), FetchedTranscriptSnippet(text='give you an a legendary', start=559.92, duration=6.72), FetchedTranscriptSnippet(text='description of this of the dream', start=563.04, duration=3.6), FetchedTranscriptSnippet(text='after entering in the competition in one', start=568.08, duration=3.84), FetchedTranscriptSnippet(text='week', start=570.959, duration=3.88), FetchedTranscriptSnippet(text='double room antarctica dot com and aim', start=571.92, duration=4.64), FetchedTranscriptSnippet(text='humanitarian.com', start=574.839, duration=3.721), FetchedTranscriptSnippet(text=\"and it's because it's in english okay i\", start=576.56, duration=4.24), FetchedTranscriptSnippet(text='have a portuguese and an english blog', start=578.56, duration=6.399), FetchedTranscriptSnippet(text='this vlog was born', start=580.8, duration=7.2), FetchedTranscriptSnippet(text='and after this my friends uh', start=584.959, duration=6.961), FetchedTranscriptSnippet(text='i lost control okay because i started', start=588.0, duration=4.56), FetchedTranscriptSnippet(text='spreading', start=591.92, duration=3.76), FetchedTranscriptSnippet(text='the words uh on the internet and of', start=592.56, duration=3.839), FetchedTranscriptSnippet(text='course', start=595.68, duration=5.04), FetchedTranscriptSnippet(text=\"we've created uh all kinds of registries\", start=596.399, duration=8.0), FetchedTranscriptSnippet(text='in all kinds of internet social network', start=600.72, duration=7.2), FetchedTranscriptSnippet(text='networks uh twitter facebook google', start=604.399, duration=6.56), FetchedTranscriptSnippet(text='and in in a short period of time uh for', start=607.92, duration=3.68), FetchedTranscriptSnippet(text='example', start=610.959, duration=4.081), FetchedTranscriptSnippet(text='in in facebook our calls', start=611.6, duration=5.359), FetchedTranscriptSnippet(text='in in two months this project has two', start=615.04, duration=3.84), FetchedTranscriptSnippet(text='months it already has something like two', start=616.959, duration=4.88), FetchedTranscriptSnippet(text='to two thousand and five hundred members', start=618.88, duration=4.56), FetchedTranscriptSnippet(text=\"so it's people just\", start=621.839, duration=4.24), FetchedTranscriptSnippet(text='following this dream and trying to to to', start=623.44, duration=3.44), FetchedTranscriptSnippet(text='to help me', start=626.079, duration=3.681), FetchedTranscriptSnippet(text='getting into untouched', start=626.88, duration=2.88), FetchedTranscriptSnippet(text=\"the most important thing it's the team\", start=629.92, duration=6.64), FetchedTranscriptSnippet(text=\"because i'm not doing this alone so as\", start=633.76, duration=4.0), FetchedTranscriptSnippet(text='you can see here', start=636.56, duration=4.32), FetchedTranscriptSnippet(text='i have an enormous group of friends that', start=637.76, duration=4.56), FetchedTranscriptSnippet(text='uh', start=640.88, duration=3.68), FetchedTranscriptSnippet(text='that is helping me and that are giving', start=642.32, duration=4.16), FetchedTranscriptSnippet(text='me all the strength and all the', start=644.56, duration=4.64), FetchedTranscriptSnippet(text='the energy i need to not to give up and', start=646.48, duration=4.24), FetchedTranscriptSnippet(text='to continue growing up', start=649.2, duration=4.8), FetchedTranscriptSnippet(text='until the end of competition which is in', start=650.72, duration=6.4), FetchedTranscriptSnippet(text='15 days okay so i have 15 days', start=654.0, duration=7.839), FetchedTranscriptSnippet(text='to gather the most number of votes', start=657.12, duration=4.719), FetchedTranscriptSnippet(text='thanks so', start=663.44, duration=6.88), FetchedTranscriptSnippet(text='after a certain period of time', start=666.959, duration=5.361), FetchedTranscriptSnippet(text=\"we've decided okay we've lost a little\", start=670.32, duration=4.48), FetchedTranscriptSnippet(text='bit the control and we said okay', start=672.32, duration=5.519), FetchedTranscriptSnippet(text=\"it's time to go national let's let's put\", start=674.8, duration=5.12), FetchedTranscriptSnippet(text=\"it on national media mass media let's do\", start=677.839, duration=3.281), FetchedTranscriptSnippet(text='something crazy', start=679.92, duration=5.039), FetchedTranscriptSnippet(text='what i did i dressed up as a penguin', start=681.12, duration=6.24), FetchedTranscriptSnippet(text='i wanted to fulfill the dream come on', start=684.959, duration=4.56), FetchedTranscriptSnippet(text='what would you do to fulfill a dream', start=687.36, duration=6.0), FetchedTranscriptSnippet(text='so i dressed up as a penguin and', start=689.519, duration=3.841), FetchedTranscriptSnippet(text='sorry but things just started to happen', start=694.399, duration=8.0), FetchedTranscriptSnippet(text='so right now uh after this presentation', start=698.88, duration=5.28), FetchedTranscriptSnippet(text='i will work a little bit and at night', start=702.399, duration=3.921), FetchedTranscriptSnippet(text=\"i'll be in rtp2 again\", start=704.16, duration=5.359), FetchedTranscriptSnippet(text='uh spreading this stream how did we do', start=706.32, duration=3.6), FetchedTranscriptSnippet(text='this', start=709.519, duration=3.361), FetchedTranscriptSnippet(text=\"what's the secret give a hundred percent\", start=709.92, duration=5.52), FetchedTranscriptSnippet(text='in everything you you do', start=712.88, duration=6.24), FetchedTranscriptSnippet(text=\"i really don't have this is not a recipe\", start=715.44, duration=6.32), FetchedTranscriptSnippet(text='for or anything but this is how it', start=719.12, duration=4.64), FetchedTranscriptSnippet(text='worked for me', start=721.76, duration=5.519), FetchedTranscriptSnippet(text=\"i'm just myself well this is me\", start=723.76, duration=6.319), FetchedTranscriptSnippet(text=\"this is how i am here there i'm a\", start=727.279, duration=4.721), FetchedTranscriptSnippet(text='portuguese simple guy', start=730.079, duration=4.32), FetchedTranscriptSnippet(text='from villarreal in the north of portugal', start=732.0, duration=4.16), FetchedTranscriptSnippet(text='i live in lisbon i work as an i.t', start=734.399, duration=2.481), FetchedTranscriptSnippet(text='consultant', start=736.16, duration=3.28), FetchedTranscriptSnippet(text='well and i have a dream share the', start=736.88, duration=3.12), FetchedTranscriptSnippet(text='project', start=739.44, duration=4.16), FetchedTranscriptSnippet(text='with everybody have fun with it', start=740.0, duration=6.88), FetchedTranscriptSnippet(text='and most of all for me be', start=743.6, duration=7.44), FetchedTranscriptSnippet(text='totally unpredictable and to do this', start=746.88, duration=4.16), FetchedTranscriptSnippet(text='i will ask you', start=752.959, duration=6.88), FetchedTranscriptSnippet(text=\"i'll ask you to sing with me this is\", start=764.079, duration=3.44), FetchedTranscriptSnippet(text='something new', start=766.8, duration=4.8), FetchedTranscriptSnippet(text='tedx for the first time people will sing', start=767.519, duration=7.12), FetchedTranscriptSnippet(text=\"it's quite simple vote in the pingu\", start=771.6, duration=6.08), FetchedTranscriptSnippet(text=\"and let's send him to antarctica\", start=774.639, duration=13.2), FetchedTranscriptSnippet(text='are you ready', start=777.68, duration=10.159), FetchedTranscriptSnippet(text=\"let's send him to one third\", start=788.399, duration=13.44), FetchedTranscriptSnippet(text='um', start=826.839, duration=4.521), FetchedTranscriptSnippet(text=\"now i'm in first place\", start=828.079, duration=3.281), FetchedTranscriptSnippet(text='i have 15 days left and i have a lot of', start=834.959, duration=4.481), FetchedTranscriptSnippet(text='north americans', start=838.079, duration=5.2), FetchedTranscriptSnippet(text='trying to grab me but they will not make', start=839.44, duration=5.92), FetchedTranscriptSnippet(text='it', start=843.279, duration=2.081), FetchedTranscriptSnippet(text='so please go to the website', start=845.68, duration=6.48), FetchedTranscriptSnippet(text='if you want and spread the word and vote', start=850.0, duration=4.48), FetchedTranscriptSnippet(text='a vote is a simple email', start=852.16, duration=5.679), FetchedTranscriptSnippet(text='this is the', start=854.48, duration=3.359), FetchedTranscriptSnippet(text='um', start=868.839, duration=3.0), FetchedTranscriptSnippet(text=\"it's a mix of touristic expedition\", start=878.24, duration=6.08), FetchedTranscriptSnippet(text='but i will go with a with a group of', start=882.079, duration=3.521), FetchedTranscriptSnippet(text='scientists also', start=884.32, duration=3.36), FetchedTranscriptSnippet(text='which main objective is to spread the', start=885.6, duration=3.039), FetchedTranscriptSnippet(text='word on', start=887.68, duration=4.8), FetchedTranscriptSnippet(text='global warming so but what i really want', start=888.639, duration=7.041), FetchedTranscriptSnippet(text='is to put my feedback', start=892.48, duration=3.2), FetchedTranscriptSnippet(text='thank you all', start=896.639, duration=3.2)], video_id='8NKUAUt8lzc', language='English (auto-generated)', language_code='en', is_generated=True)\n"
          ]
        }
      ],
      "source": [
        "from youtube_transcript_api import YouTubeTranscriptApi\n",
        "\n",
        "video_id = \"8NKUAUt8lzc\"\n",
        "\n",
        "ytt_api = YouTubeTranscriptApi()\n",
        "\n",
        "transcript = ytt_api.fetch(video_id)\n",
        "print(transcript)"
      ]
    },
    {
      "cell_type": "code",
      "execution_count": null,
      "metadata": {
        "colab": {
          "base_uri": "https://localhost:8080/"
        },
        "id": "UVP-F58s-nZ_",
        "outputId": "d007b289-b1f1-446d-c35c-208a45aadba8"
      },
      "outputs": [
        {
          "output_type": "stream",
          "name": "stdout",
          "text": [
            "Textos extraídos: ['good morning', \"so i'll switch now to english uh\", \"i think it's the it's the language tedx\", 'language first of all', 'andre the rest all the organizers thank', \"you very much for your invitation it's\", 'uh with the an enormous pleasure that', \"i'm here\", 'uh talking about my dream and', 'trying to spread also the word uh what', 'is my idea what do i want to do', \"the the name of my presentation is it's\", 'called blogging for a dream i think you', 'will', \"identify what's this this is antarctica\", 'this is the most', 'southern most southern continent of the', 'world', 'this will be a pretty light easygoing', 'presentation', 'i hope you enjoy it and', 'this happened two months ago', 'i received an email from from a company', 'a north american company called quark', 'expeditions', 'on this email i had i was', 'they were challenging me something like', 'luis monteiro i know you are', 'interest interested in the antarctica', 'and the', 'things that surround the antarctic', 'so i challenge you to enter in a', 'competition', 'where you could win a trip to antarctica', 'okay', 'this email had something like three four', 'questions', 'first question to enter in the', 'competition', 'do you have a passion for polar regions', 'well', 'this question to me is pretty simple to', 'to answer because', \"the past 10 years i've been\", 'totally committed in', 'a dream that had grown', 'within the years i started 10 years ago', 'watching the stories and tv', 'series regarding bbc tv series national', 'geographic regarding the antarctica', 'i started investigating a little bit', 'more trying to understand', \"what is what is this continent what it's\", 'all about', 'and i got fashion fascinated completely', 'fascinated for it', \"right now my house it's like a frozen\", 'fridge but', 'but without the ice something like that', 'i have', 'magazines postcards dvds books', \"i love the antarctic and it's difficult\", 'to explain', 'why are you why do you have a passion do', 'you know i', 'love your wife or do you know why you', 'love your kids', \"something you can't explain so for me uh\", 'what i would like to', 'to show you is that uh', \"it's a bit difficult to to explain a\", 'passion right', 'i think we all have this this difficulty', 'but i would like to ask you to close', 'your eyes for 20 seconds', 'and to hear a sound that was recorded', 'and that was', 'uh that was sent to me by someone that', 'knows this dream that took', \"the took part of this stream it's quite\", \"a bit it's a sound recorded\", 'in the antarctica so what i ask you is', 'just', 'close your eyes for 20 seconds and uh', 'try to imagine something please just', 'click on the', 'yeah no problem as you wish', 'please close your eyes 20 seconds', 'nothing special', 'and be part of this world', \"that's\", \"thank you did you feel anything it's\", \"it's immersive right it's it's\", \"strong it's the sound of a glacier you\", 'are going', \"you are in a it's the sound of a glacier\", 'cracking', 'and in the antarctica you will feel uh', 'the the', 'you will feel that you are in the', 'complete', 'untouched the most unspoiled and', 'untouched place', 'and at earth and well we have to', 'preserve it', \"so i think i've passed a little bit what\", 'is this passion second question they', 'asked me', 'are you committed to the environment', 'well i think', 'we all right now we we always', 'uh sorry we of course we are committed', 'to the environment and of course i am', 'committed', 'i try the best as i can to at work', 'at home in my community to reuse to', 'recycle the three hours', 'and to reduce of course', 'so right now global warming is', \"killing the arctic and it's killing the\", 'entirety', \"so i'm not here uh\", \"i'm not an ecologist or a scientist in\", 'fact i am an i.t consultant so', 'something uh different an i.t consultant', 'that wants to go to antarctica', \"uh strange it's terrible\", 'so uh of course i am committed and of', 'course i', 'if i take this chance if i take this', 'chance on this competition of course i', 'will take advantage of it', 'and try to spread the word the word of', 'how this is affecting the antarctic okay', 'another question that was made to me', 'do you have an insatiable urge to', 'photograph penguins', \"uh i really don't think i have to answer\", 'this', 'because this is my workplace', 'so as you can see i have this', 'little collection about of penguins', \"penguin a penguin it's my favorite\", \"animal it's the most\", \"it's the funniest and it's also the\", 'most amazing animal have you seen a', 'penguin', \"underwater it's like a jet\", \"so he sees some krill it's amazing\", 'what about blogging do you blog with', 'something', 'quite simple well in fact yes i do blog', \"i've been blogging for\", 'since 2002. i start blogging because', \"i've worked abroad for three years now\", \"i've worked in serbia\", \"i've worked in brazil and in belgium and\", 'i wanted', 'that i wanted that my family would be', 'part and would know what i what i was', 'doing around there so', \"i created a blog a personal blog it's\", \"written in portuguese it's called\", 'stone blog in fact the blog is called', 'storynet', 'means in portuguese it means i am i am', 'on the internet', 'this is what i would like to to to pass', 'this is what i', 'i wanted to pass for my family and for', \"my friends okay i'm not with you guys\", \"but i'm on the internet so go check in\", 'there', \"and what i what are right there it's\", 'comic and tragic', 'life stories diaries in portuguese', 'password', \"this is i'm really really excited this\", 'is my last post in my personal blog', \"that i'm really excited that for the\", 'first time i went to my car to the', 'inspection vehicle inspection and it', 'best', 'and believe me i tried to go to an', 'inspection at 8 00 a.m in second vine', \"and you will know what i'm talking about\", 'so what i did i created the post on the', 'quark expedition website', \"and i've placed the name of my post it's\", 'gonna be legendary', \"it's a famous sentence of a tv series\", 'and i wanted', 'to to pass to everybody which could vote', 'on me', 'for for this competition that if i win', 'this', \"i'm gonna be creative i'm gonna be uh\", \"i'm gonna give the best of me\", 'and i will uh i will', 'give you an a legendary', 'description of this of the dream', 'after entering in the competition in one', 'week', 'double room antarctica dot com and aim', 'humanitarian.com', \"and it's because it's in english okay i\", 'have a portuguese and an english blog', 'this vlog was born', 'and after this my friends uh', 'i lost control okay because i started', 'spreading', 'the words uh on the internet and of', 'course', \"we've created uh all kinds of registries\", 'in all kinds of internet social network', 'networks uh twitter facebook google', 'and in in a short period of time uh for', 'example', 'in in facebook our calls', 'in in two months this project has two', 'months it already has something like two', 'to two thousand and five hundred members', \"so it's people just\", 'following this dream and trying to to to', 'to help me', 'getting into untouched', \"the most important thing it's the team\", \"because i'm not doing this alone so as\", 'you can see here', 'i have an enormous group of friends that', 'uh', 'that is helping me and that are giving', 'me all the strength and all the', 'the energy i need to not to give up and', 'to continue growing up', 'until the end of competition which is in', '15 days okay so i have 15 days', 'to gather the most number of votes', 'thanks so', 'after a certain period of time', \"we've decided okay we've lost a little\", 'bit the control and we said okay', \"it's time to go national let's let's put\", \"it on national media mass media let's do\", 'something crazy', 'what i did i dressed up as a penguin', 'i wanted to fulfill the dream come on', 'what would you do to fulfill a dream', 'so i dressed up as a penguin and', 'sorry but things just started to happen', 'so right now uh after this presentation', 'i will work a little bit and at night', \"i'll be in rtp2 again\", 'uh spreading this stream how did we do', 'this', \"what's the secret give a hundred percent\", 'in everything you you do', \"i really don't have this is not a recipe\", 'for or anything but this is how it', 'worked for me', \"i'm just myself well this is me\", \"this is how i am here there i'm a\", 'portuguese simple guy', 'from villarreal in the north of portugal', 'i live in lisbon i work as an i.t', 'consultant', 'well and i have a dream share the', 'project', 'with everybody have fun with it', 'and most of all for me be', 'totally unpredictable and to do this', 'i will ask you', \"i'll ask you to sing with me this is\", 'something new', 'tedx for the first time people will sing', \"it's quite simple vote in the pingu\", \"and let's send him to antarctica\", 'are you ready', \"let's send him to one third\", 'um', \"now i'm in first place\", 'i have 15 days left and i have a lot of', 'north americans', 'trying to grab me but they will not make', 'it', 'so please go to the website', 'if you want and spread the word and vote', 'a vote is a simple email', 'this is the', 'um', \"it's a mix of touristic expedition\", 'but i will go with a with a group of', 'scientists also', 'which main objective is to spread the', 'word on', 'global warming so but what i really want', 'is to put my feedback', 'thank you all']\n",
            "Metadatos: [{'start': 46.16, 'duration': 5.28, 'order': 0}, {'start': 47.12, 'duration': 7.52, 'order': 1}, {'start': 51.44, 'duration': 4.639, 'order': 2}, {'start': 54.64, 'duration': 5.2, 'order': 3}, {'start': 56.079, 'duration': 5.761, 'order': 4}, {'start': 59.84, 'duration': 4.16, 'order': 5}, {'start': 61.84, 'duration': 3.12, 'order': 6}, {'start': 64.0, 'duration': 4.32, 'order': 7}, {'start': 64.96, 'duration': 6.08, 'order': 8}, {'start': 68.32, 'duration': 5.68, 'order': 9}, {'start': 71.04, 'duration': 5.92, 'order': 10}, {'start': 74.0, 'duration': 4.64, 'order': 11}, {'start': 76.96, 'duration': 2.32, 'order': 12}, {'start': 78.64, 'duration': 2.799, 'order': 13}, {'start': 79.28, 'duration': 3.28, 'order': 14}, {'start': 81.439, 'duration': 3.761, 'order': 15}, {'start': 82.56, 'duration': 4.32, 'order': 16}, {'start': 85.2, 'duration': 5.04, 'order': 17}, {'start': 86.88, 'duration': 5.04, 'order': 18}, {'start': 90.24, 'duration': 4.879, 'order': 19}, {'start': 91.92, 'duration': 7.12, 'order': 20}, {'start': 95.119, 'duration': 8.081, 'order': 21}, {'start': 99.04, 'duration': 6.64, 'order': 22}, {'start': 103.2, 'duration': 3.68, 'order': 23}, {'start': 105.68, 'duration': 4.24, 'order': 24}, {'start': 106.88, 'duration': 6.96, 'order': 25}, {'start': 109.92, 'duration': 8.4, 'order': 26}, {'start': 113.84, 'duration': 7.279, 'order': 27}, {'start': 118.32, 'duration': 3.6, 'order': 28}, {'start': 121.119, 'duration': 4.241, 'order': 29}, {'start': 121.92, 'duration': 6.479, 'order': 30}, {'start': 125.36, 'duration': 4.56, 'order': 31}, {'start': 128.399, 'duration': 4.56, 'order': 32}, {'start': 129.92, 'duration': 5.28, 'order': 33}, {'start': 132.959, 'duration': 2.241, 'order': 34}, {'start': 137.76, 'duration': 4.0, 'order': 35}, {'start': 139.84, 'duration': 3.92, 'order': 36}, {'start': 141.76, 'duration': 3.44, 'order': 37}, {'start': 143.76, 'duration': 4.0, 'order': 38}, {'start': 145.2, 'duration': 3.119, 'order': 39}, {'start': 147.76, 'duration': 3.04, 'order': 40}, {'start': 148.319, 'duration': 5.121, 'order': 41}, {'start': 150.8, 'duration': 7.04, 'order': 42}, {'start': 153.44, 'duration': 4.4, 'order': 43}, {'start': 158.64, 'duration': 6.239, 'order': 44}, {'start': 161.84, 'duration': 6.08, 'order': 45}, {'start': 164.879, 'duration': 6.161, 'order': 46}, {'start': 167.92, 'duration': 6.0, 'order': 47}, {'start': 171.04, 'duration': 5.04, 'order': 48}, {'start': 173.92, 'duration': 4.239, 'order': 49}, {'start': 176.08, 'duration': 3.84, 'order': 50}, {'start': 178.159, 'duration': 4.561, 'order': 51}, {'start': 179.92, 'duration': 4.399, 'order': 52}, {'start': 182.72, 'duration': 3.92, 'order': 53}, {'start': 184.319, 'duration': 3.84, 'order': 54}, {'start': 186.64, 'duration': 4.56, 'order': 55}, {'start': 188.159, 'duration': 6.561, 'order': 56}, {'start': 191.2, 'duration': 5.92, 'order': 57}, {'start': 194.72, 'duration': 3.76, 'order': 58}, {'start': 197.12, 'duration': 5.68, 'order': 59}, {'start': 198.48, 'duration': 6.88, 'order': 60}, {'start': 202.8, 'duration': 3.999, 'order': 61}, {'start': 205.36, 'duration': 4.0, 'order': 62}, {'start': 206.799, 'duration': 3.121, 'order': 63}, {'start': 209.36, 'duration': 2.959, 'order': 64}, {'start': 209.92, 'duration': 3.599, 'order': 65}, {'start': 212.319, 'duration': 4.081, 'order': 66}, {'start': 213.519, 'duration': 3.921, 'order': 67}, {'start': 216.4, 'duration': 4.8, 'order': 68}, {'start': 217.44, 'duration': 6.0, 'order': 69}, {'start': 221.2, 'duration': 3.2, 'order': 70}, {'start': 223.44, 'duration': 4.799, 'order': 71}, {'start': 224.4, 'duration': 5.36, 'order': 72}, {'start': 228.239, 'duration': 3.601, 'order': 73}, {'start': 229.76, 'duration': 4.72, 'order': 74}, {'start': 231.84, 'duration': 3.679, 'order': 75}, {'start': 234.48, 'duration': 4.56, 'order': 76}, {'start': 235.519, 'duration': 6.72, 'order': 77}, {'start': 239.04, 'duration': 5.36, 'order': 78}, {'start': 242.239, 'duration': 4.481, 'order': 79}, {'start': 244.4, 'duration': 5.039, 'order': 80}, {'start': 246.72, 'duration': 3.36, 'order': 81}, {'start': 249.439, 'duration': 5.041, 'order': 82}, {'start': 250.08, 'duration': 7.439, 'order': 83}, {'start': 254.48, 'duration': 5.36, 'order': 84}, {'start': 257.519, 'duration': 7.201, 'order': 85}, {'start': 259.84, 'duration': 4.88, 'order': 86}, {'start': 265.6, 'duration': 4.08, 'order': 87}, {'start': 267.6, 'duration': 16.24, 'order': 88}, {'start': 269.68, 'duration': 14.16, 'order': 89}, {'start': 294.84, 'duration': 3.0, 'order': 90}, {'start': 301.84, 'duration': 6.48, 'order': 91}, {'start': 305.199, 'duration': 5.601, 'order': 92}, {'start': 308.32, 'duration': 3.12, 'order': 93}, {'start': 310.8, 'duration': 3.36, 'order': 94}, {'start': 311.44, 'duration': 4.4, 'order': 95}, {'start': 314.16, 'duration': 4.24, 'order': 96}, {'start': 315.84, 'duration': 3.919, 'order': 97}, {'start': 318.4, 'duration': 3.12, 'order': 98}, {'start': 319.759, 'duration': 3.841, 'order': 99}, {'start': 321.52, 'duration': 4.08, 'order': 100}, {'start': 323.6, 'duration': 3.28, 'order': 101}, {'start': 325.6, 'duration': 3.84, 'order': 102}, {'start': 326.88, 'duration': 3.28, 'order': 103}, {'start': 329.44, 'duration': 3.039, 'order': 104}, {'start': 330.16, 'duration': 4.08, 'order': 105}, {'start': 332.479, 'duration': 3.041, 'order': 106}, {'start': 334.24, 'duration': 3.519, 'order': 107}, {'start': 335.52, 'duration': 3.679, 'order': 108}, {'start': 337.759, 'duration': 5.201, 'order': 109}, {'start': 339.199, 'duration': 7.601, 'order': 110}, {'start': 342.96, 'duration': 5.28, 'order': 111}, {'start': 346.8, 'duration': 2.239, 'order': 112}, {'start': 348.24, 'duration': 4.239, 'order': 113}, {'start': 349.039, 'duration': 6.561, 'order': 114}, {'start': 352.479, 'duration': 6.401, 'order': 115}, {'start': 355.6, 'duration': 7.2, 'order': 116}, {'start': 358.88, 'duration': 7.439, 'order': 117}, {'start': 362.8, 'duration': 5.44, 'order': 118}, {'start': 366.319, 'duration': 3.44, 'order': 119}, {'start': 368.24, 'duration': 4.56, 'order': 120}, {'start': 369.759, 'duration': 5.44, 'order': 121}, {'start': 372.8, 'duration': 5.92, 'order': 122}, {'start': 375.199, 'duration': 5.601, 'order': 123}, {'start': 378.72, 'duration': 4.0, 'order': 124}, {'start': 380.8, 'duration': 6.8, 'order': 125}, {'start': 382.72, 'duration': 4.88, 'order': 126}, {'start': 387.759, 'duration': 3.601, 'order': 127}, {'start': 390.56, 'duration': 3.199, 'order': 128}, {'start': 391.36, 'duration': 3.92, 'order': 129}, {'start': 393.759, 'duration': 2.961, 'order': 130}, {'start': 395.28, 'duration': 4.639, 'order': 131}, {'start': 396.72, 'duration': 6.88, 'order': 132}, {'start': 399.919, 'duration': 7.28, 'order': 133}, {'start': 403.6, 'duration': 5.52, 'order': 134}, {'start': 407.199, 'duration': 4.161, 'order': 135}, {'start': 409.12, 'duration': 4.96, 'order': 136}, {'start': 411.36, 'duration': 3.92, 'order': 137}, {'start': 414.08, 'duration': 5.679, 'order': 138}, {'start': 415.28, 'duration': 7.68, 'order': 139}, {'start': 419.759, 'duration': 5.521, 'order': 140}, {'start': 422.96, 'duration': 4.72, 'order': 141}, {'start': 425.28, 'duration': 6.479, 'order': 142}, {'start': 427.68, 'duration': 7.84, 'order': 143}, {'start': 431.759, 'duration': 6.241, 'order': 144}, {'start': 435.52, 'duration': 3.28, 'order': 145}, {'start': 438.0, 'duration': 5.039, 'order': 146}, {'start': 438.8, 'duration': 9.36, 'order': 147}, {'start': 443.039, 'duration': 5.121, 'order': 148}, {'start': 448.8, 'duration': 3.519, 'order': 149}, {'start': 451.039, 'duration': 4.481, 'order': 150}, {'start': 452.319, 'duration': 4.401, 'order': 151}, {'start': 455.52, 'duration': 4.56, 'order': 152}, {'start': 456.72, 'duration': 6.16, 'order': 153}, {'start': 460.08, 'duration': 4.799, 'order': 154}, {'start': 462.88, 'duration': 5.039, 'order': 155}, {'start': 464.879, 'duration': 4.0, 'order': 156}, {'start': 467.919, 'duration': 4.72, 'order': 157}, {'start': 468.879, 'duration': 5.681, 'order': 158}, {'start': 472.639, 'duration': 3.761, 'order': 159}, {'start': 474.56, 'duration': 4.0, 'order': 160}, {'start': 476.4, 'duration': 4.079, 'order': 161}, {'start': 478.56, 'duration': 4.56, 'order': 162}, {'start': 480.479, 'duration': 5.201, 'order': 163}, {'start': 483.12, 'duration': 5.759, 'order': 164}, {'start': 485.68, 'duration': 4.48, 'order': 165}, {'start': 488.879, 'duration': 3.681, 'order': 166}, {'start': 490.16, 'duration': 3.36, 'order': 167}, {'start': 492.56, 'duration': 2.8, 'order': 168}, {'start': 493.52, 'duration': 4.239, 'order': 169}, {'start': 495.36, 'duration': 5.119, 'order': 170}, {'start': 497.759, 'duration': 3.28, 'order': 171}, {'start': 500.479, 'duration': 2.881, 'order': 172}, {'start': 501.039, 'duration': 3.681, 'order': 173}, {'start': 503.36, 'duration': 3.92, 'order': 174}, {'start': 504.72, 'duration': 3.599, 'order': 175}, {'start': 507.28, 'duration': 3.44, 'order': 176}, {'start': 508.319, 'duration': 4.4, 'order': 177}, {'start': 510.72, 'duration': 3.439, 'order': 178}, {'start': 512.719, 'duration': 3.281, 'order': 179}, {'start': 514.159, 'duration': 3.601, 'order': 180}, {'start': 516.0, 'duration': 2.399, 'order': 181}, {'start': 517.76, 'duration': 4.0, 'order': 182}, {'start': 518.399, 'duration': 6.161, 'order': 183}, {'start': 521.76, 'duration': 6.88, 'order': 184}, {'start': 524.56, 'duration': 4.08, 'order': 185}, {'start': 529.519, 'duration': 5.201, 'order': 186}, {'start': 532.72, 'duration': 5.679, 'order': 187}, {'start': 534.72, 'duration': 5.119, 'order': 188}, {'start': 538.399, 'duration': 4.401, 'order': 189}, {'start': 539.839, 'duration': 4.161, 'order': 190}, {'start': 542.8, 'duration': 4.719, 'order': 191}, {'start': 544.0, 'duration': 4.08, 'order': 192}, {'start': 547.519, 'duration': 3.521, 'order': 193}, {'start': 548.08, 'duration': 3.84, 'order': 194}, {'start': 551.04, 'duration': 3.84, 'order': 195}, {'start': 551.92, 'duration': 4.88, 'order': 196}, {'start': 554.88, 'duration': 5.04, 'order': 197}, {'start': 556.8, 'duration': 6.24, 'order': 198}, {'start': 559.92, 'duration': 6.72, 'order': 199}, {'start': 563.04, 'duration': 3.6, 'order': 200}, {'start': 568.08, 'duration': 3.84, 'order': 201}, {'start': 570.959, 'duration': 3.88, 'order': 202}, {'start': 571.92, 'duration': 4.64, 'order': 203}, {'start': 574.839, 'duration': 3.721, 'order': 204}, {'start': 576.56, 'duration': 4.24, 'order': 205}, {'start': 578.56, 'duration': 6.399, 'order': 206}, {'start': 580.8, 'duration': 7.2, 'order': 207}, {'start': 584.959, 'duration': 6.961, 'order': 208}, {'start': 588.0, 'duration': 4.56, 'order': 209}, {'start': 591.92, 'duration': 3.76, 'order': 210}, {'start': 592.56, 'duration': 3.839, 'order': 211}, {'start': 595.68, 'duration': 5.04, 'order': 212}, {'start': 596.399, 'duration': 8.0, 'order': 213}, {'start': 600.72, 'duration': 7.2, 'order': 214}, {'start': 604.399, 'duration': 6.56, 'order': 215}, {'start': 607.92, 'duration': 3.68, 'order': 216}, {'start': 610.959, 'duration': 4.081, 'order': 217}, {'start': 611.6, 'duration': 5.359, 'order': 218}, {'start': 615.04, 'duration': 3.84, 'order': 219}, {'start': 616.959, 'duration': 4.88, 'order': 220}, {'start': 618.88, 'duration': 4.56, 'order': 221}, {'start': 621.839, 'duration': 4.24, 'order': 222}, {'start': 623.44, 'duration': 3.44, 'order': 223}, {'start': 626.079, 'duration': 3.681, 'order': 224}, {'start': 626.88, 'duration': 2.88, 'order': 225}, {'start': 629.92, 'duration': 6.64, 'order': 226}, {'start': 633.76, 'duration': 4.0, 'order': 227}, {'start': 636.56, 'duration': 4.32, 'order': 228}, {'start': 637.76, 'duration': 4.56, 'order': 229}, {'start': 640.88, 'duration': 3.68, 'order': 230}, {'start': 642.32, 'duration': 4.16, 'order': 231}, {'start': 644.56, 'duration': 4.64, 'order': 232}, {'start': 646.48, 'duration': 4.24, 'order': 233}, {'start': 649.2, 'duration': 4.8, 'order': 234}, {'start': 650.72, 'duration': 6.4, 'order': 235}, {'start': 654.0, 'duration': 7.839, 'order': 236}, {'start': 657.12, 'duration': 4.719, 'order': 237}, {'start': 663.44, 'duration': 6.88, 'order': 238}, {'start': 666.959, 'duration': 5.361, 'order': 239}, {'start': 670.32, 'duration': 4.48, 'order': 240}, {'start': 672.32, 'duration': 5.519, 'order': 241}, {'start': 674.8, 'duration': 5.12, 'order': 242}, {'start': 677.839, 'duration': 3.281, 'order': 243}, {'start': 679.92, 'duration': 5.039, 'order': 244}, {'start': 681.12, 'duration': 6.24, 'order': 245}, {'start': 684.959, 'duration': 4.56, 'order': 246}, {'start': 687.36, 'duration': 6.0, 'order': 247}, {'start': 689.519, 'duration': 3.841, 'order': 248}, {'start': 694.399, 'duration': 8.0, 'order': 249}, {'start': 698.88, 'duration': 5.28, 'order': 250}, {'start': 702.399, 'duration': 3.921, 'order': 251}, {'start': 704.16, 'duration': 5.359, 'order': 252}, {'start': 706.32, 'duration': 3.6, 'order': 253}, {'start': 709.519, 'duration': 3.361, 'order': 254}, {'start': 709.92, 'duration': 5.52, 'order': 255}, {'start': 712.88, 'duration': 6.24, 'order': 256}, {'start': 715.44, 'duration': 6.32, 'order': 257}, {'start': 719.12, 'duration': 4.64, 'order': 258}, {'start': 721.76, 'duration': 5.519, 'order': 259}, {'start': 723.76, 'duration': 6.319, 'order': 260}, {'start': 727.279, 'duration': 4.721, 'order': 261}, {'start': 730.079, 'duration': 4.32, 'order': 262}, {'start': 732.0, 'duration': 4.16, 'order': 263}, {'start': 734.399, 'duration': 2.481, 'order': 264}, {'start': 736.16, 'duration': 3.28, 'order': 265}, {'start': 736.88, 'duration': 3.12, 'order': 266}, {'start': 739.44, 'duration': 4.16, 'order': 267}, {'start': 740.0, 'duration': 6.88, 'order': 268}, {'start': 743.6, 'duration': 7.44, 'order': 269}, {'start': 746.88, 'duration': 4.16, 'order': 270}, {'start': 752.959, 'duration': 6.88, 'order': 271}, {'start': 764.079, 'duration': 3.44, 'order': 272}, {'start': 766.8, 'duration': 4.8, 'order': 273}, {'start': 767.519, 'duration': 7.12, 'order': 274}, {'start': 771.6, 'duration': 6.08, 'order': 275}, {'start': 774.639, 'duration': 13.2, 'order': 276}, {'start': 777.68, 'duration': 10.159, 'order': 277}, {'start': 788.399, 'duration': 13.44, 'order': 278}, {'start': 826.839, 'duration': 4.521, 'order': 279}, {'start': 828.079, 'duration': 3.281, 'order': 280}, {'start': 834.959, 'duration': 4.481, 'order': 281}, {'start': 838.079, 'duration': 5.2, 'order': 282}, {'start': 839.44, 'duration': 5.92, 'order': 283}, {'start': 843.279, 'duration': 2.081, 'order': 284}, {'start': 845.68, 'duration': 6.48, 'order': 285}, {'start': 850.0, 'duration': 4.48, 'order': 286}, {'start': 852.16, 'duration': 5.679, 'order': 287}, {'start': 854.48, 'duration': 3.359, 'order': 288}, {'start': 868.839, 'duration': 3.0, 'order': 289}, {'start': 878.24, 'duration': 6.08, 'order': 290}, {'start': 882.079, 'duration': 3.521, 'order': 291}, {'start': 884.32, 'duration': 3.36, 'order': 292}, {'start': 885.6, 'duration': 3.039, 'order': 293}, {'start': 887.68, 'duration': 4.8, 'order': 294}, {'start': 888.639, 'duration': 7.041, 'order': 295}, {'start': 892.48, 'duration': 3.2, 'order': 296}, {'start': 896.639, 'duration': 3.2, 'order': 297}]\n"
          ]
        }
      ],
      "source": [
        "# Extraer los textos y metadatos\n",
        "texts = []\n",
        "metadatas = []\n",
        "for i, entry in enumerate(transcript):\n",
        "    texts.append(entry.text)  # Usar .text en lugar de ['text']\n",
        "    metadatas.append({\n",
        "        'start': entry.start,  # Usar .start en lugar de ['start']\n",
        "        'duration': entry.duration,  # Usar .duration en lugar of ['duration']\n",
        "        'order': i  # Para mantener el orden original\n",
        "    })\n",
        "\n",
        "# Verificar los resultados\n",
        "print(\"Textos extraídos:\", texts)\n",
        "print(\"Metadatos:\", metadatas)"
      ]
    },
    {
      "cell_type": "markdown",
      "metadata": {
        "id": "IAW-XIEQxgYe"
      },
      "source": [
        "ChromaDB"
      ]
    },
    {
      "cell_type": "code",
      "execution_count": null,
      "metadata": {
        "id": "FSzeUEki_tli"
      },
      "outputs": [],
      "source": [
        "import chromadb\n",
        "from chromadb.utils import embedding_functions\n",
        "\n",
        "# Inicializar la función de embedding\n",
        "sentence_transformer_ef = embedding_functions.SentenceTransformerEmbeddingFunction(\n",
        "    model_name=\"all-MiniLM-L6-v2\"\n",
        ")\n",
        "\n",
        "# Crear el cliente de ChromaDB\n",
        "chroma_client = chromadb.Client()\n",
        "\n",
        "# Crear una colección con la función de embedding\n",
        "collection = chroma_client.create_collection(\n",
        "    name=\"youtube_transcripts\",\n",
        "    embedding_function=sentence_transformer_ef\n",
        ")"
      ]
    },
    {
      "cell_type": "code",
      "execution_count": null,
      "metadata": {
        "id": "UqmVkppqCLhC"
      },
      "outputs": [],
      "source": [
        "# Generar IDs únicos para cada segmento\n",
        "ids = [str(i) for i in range(len(texts))]\n",
        "\n",
        "# Añadir a la colección\n",
        "collection.add(\n",
        "    documents=texts,\n",
        "    metadatas=metadatas,\n",
        "    ids=ids\n",
        ")"
      ]
    },
    {
      "cell_type": "code",
      "execution_count": null,
      "metadata": {
        "colab": {
          "base_uri": "https://localhost:8080/"
        },
        "id": "tLhZLEmhCO75",
        "outputId": "92323227-88a2-4f9c-e789-5dfe26fa974a"
      },
      "outputs": [
        {
          "output_type": "stream",
          "name": "stdout",
          "text": [
            "Documentos encontrados: [['most amazing animal have you seen a', \"animal it's the most\"]]\n",
            "Metadatos: [[{'start': 435.52, 'order': 145, 'duration': 3.28}, {'duration': 7.84, 'order': 143, 'start': 427.68}]]\n"
          ]
        }
      ],
      "source": [
        "# Ejemplo de consulta: buscar segmentos relevantes sobre \"elephants\"\n",
        "results = collection.query(\n",
        "    query_texts=[\"elephants\"],\n",
        "    n_results=2\n",
        ")\n",
        "\n",
        "print(\"Documentos encontrados:\", results['documents'])\n",
        "print(\"Metadatos:\", results['metadatas'])"
      ]
    },
    {
      "cell_type": "markdown",
      "metadata": {
        "id": "1U3AJDFExTex"
      },
      "source": [
        "Modelo Llama"
      ]
    },
    {
      "cell_type": "code",
      "execution_count": null,
      "metadata": {
        "colab": {
          "base_uri": "https://localhost:8080/"
        },
        "id": "hatVif-d6Jki",
        "outputId": "d17038f6-8b95-408e-ab3e-52541b79b7e5"
      },
      "outputs": [
        {
          "output_type": "stream",
          "name": "stderr",
          "text": [
            "Device set to use cpu\n"
          ]
        }
      ],
      "source": [
        "import chromadb\n",
        "from chromadb.utils import embedding_functions\n",
        "from transformers import AutoTokenizer, AutoModelForCausalLM, pipeline\n",
        "from youtube_transcript_api import YouTubeTranscriptApi\n",
        "import torch\n",
        "from google.colab import userdata\n",
        "\n",
        "\n",
        "# Configuración inicial\n",
        "model_name = \"TinyLlama/TinyLlama-1.1B-Chat-v1.0\" #\"meta-llama/Llama-2-7b-chat-hf\"#\n",
        "token = userdata.get('HFSecret') #Poner Token en collab\n",
        "\n",
        "tokenizer = AutoTokenizer.from_pretrained(model_name, token=token)\n",
        "model = AutoModelForCausalLM.from_pretrained(\n",
        "    model_name,\n",
        "    device_map=\"cpu\",\n",
        "    torch_dtype=torch.float32,\n",
        "    token=token\n",
        ")\n",
        "\n",
        "# Crear una pipeline de generación de texto\n",
        "llm_pipeline = pipeline(\n",
        "    \"text-generation\",\n",
        "    model=model,\n",
        "    tokenizer=tokenizer,\n",
        "    torch_dtype=torch.float16,\n",
        "    device_map=\"auto\"\n",
        ")"
      ]
    },
    {
      "cell_type": "code",
      "execution_count": null,
      "metadata": {
        "id": "JVhBqw_-6kYo"
      },
      "outputs": [],
      "source": [
        "# 2. Función para obtener y procesar transcripciones\n",
        "def get_video_transcription(video_id):\n",
        "    try:\n",
        "        transcript = ytt_api.fetch(video_id)\n",
        "        texts = []\n",
        "        metadatas = []\n",
        "\n",
        "        for i, entry in enumerate(transcript):\n",
        "            texts.append(entry.text)\n",
        "            metadatas.append({\n",
        "                'start': entry.start,\n",
        "                'duration': entry.duration,\n",
        "                'order': i\n",
        "            })\n",
        "\n",
        "        return texts, metadatas\n",
        "    except Exception as e:\n",
        "        print(f\"Error obteniendo transcripción: {e}\")\n",
        "        return [], []\n",
        "\n"
      ]
    },
    {
      "cell_type": "code",
      "execution_count": null,
      "metadata": {
        "colab": {
          "base_uri": "https://localhost:8080/"
        },
        "id": "MUFW_PkE6ny7",
        "outputId": "7b338b8e-3761-49e5-9f29-8d72255455c5"
      },
      "outputs": [
        {
          "output_type": "stream",
          "name": "stdout",
          "text": [
            "Colección 'youtube_transcripts' eliminada exitosamente\n"
          ]
        }
      ],
      "source": [
        "# 3. Configurar ChromaDB\n",
        "sentence_transformer_ef = embedding_functions.SentenceTransformerEmbeddingFunction(\n",
        "    model_name=\"all-MiniLM-L6-v2\"\n",
        ")\n",
        "\n",
        "collection_name=\"youtube_transcripts\"\n",
        "\n",
        "try:\n",
        "    chroma_client.delete_collection(name=collection_name)\n",
        "    print(f\"Colección '{collection_name}' eliminada exitosamente\")\n",
        "except ValueError:\n",
        "    print(f\"La colección '{collection_name}' no existía, se creará nueva\")\n",
        "except Exception as e:\n",
        "    print(f\"Error al eliminar la colección: {e}\")\n",
        "\n",
        "# Crear la colección (nueva o renovada)\n",
        "collection = chroma_client.create_collection(\n",
        "    name=collection_name,\n",
        "    embedding_function=sentence_transformer_ef\n",
        ")\n",
        "\n",
        "# 4. Función para agregar transcripción a ChromaDB\n",
        "def add_transcription_to_chroma(video_id):\n",
        "    texts, metadatas = get_video_transcription(video_id)\n",
        "\n",
        "    if texts:\n",
        "        ids = [f\"{video_id}_{i}\" for i in range(len(texts))]\n",
        "        collection.add(\n",
        "            documents=texts,\n",
        "            metadatas=metadatas,\n",
        "            ids=ids\n",
        "        )\n",
        "        print(f\"Transcripción del video {video_id} agregada a ChromaDB\")\n",
        "        return True\n",
        "    else:\n",
        "        print(\"No se pudo obtener la transcripción\")\n",
        "        return False"
      ]
    },
    {
      "cell_type": "code",
      "execution_count": null,
      "metadata": {
        "id": "vMu8-7hk6pnI"
      },
      "outputs": [],
      "source": [
        "# 5. Función para consultar el RAG y generar respuestas\n",
        "def ask_about_video(question, video_id, max_length=512):\n",
        "    # Primero asegurarnos de que la transcripción está en ChromaDB\n",
        "    if not collection.get(where={\"video_id\": video_id})['ids']:\n",
        "        print(\"Transcripción no encontrada, agregándola...\")\n",
        "        add_transcription_to_chroma(video_id)\n",
        "\n",
        "    # Buscar contextos relevantes en ChromaDB\n",
        "    results = collection.query(\n",
        "        query_texts=[question],\n",
        "        n_results=2,\n",
        "        where={\"video_id\": video_id}  # Filtrar por video específico\n",
        "    )\n",
        "\n",
        "    # Combinar los contextos relevantes\n",
        "    context = \" \".join(results['documents'][0])\n",
        "\n",
        "    # Crear el prompt para TinyLlama\n",
        "    prompt = f\"\"\"\n",
        "    Basado en la siguiente transcripción de video, responde la pregunta del usuario.\n",
        "\n",
        "    Transcripción:\n",
        "    {context}\n",
        "\n",
        "    Pregunta: {question}\n",
        "\n",
        "    Respuesta:\n",
        "    \"\"\"\n",
        "\n",
        "    # Generar la respuesta con TinyLlama\n",
        "    response = llm_pipeline(\n",
        "        prompt,\n",
        "        max_length=max_length,\n",
        "        temperature=0.7,\n",
        "        do_sample=True,\n",
        "        top_p=0.9,\n",
        "        repetition_penalty=1.1,\n",
        "        pad_token_id=tokenizer.eos_token_id\n",
        "    )\n",
        "\n",
        "    return response[0]['generated_text'].replace(prompt, \"\").strip()"
      ]
    },
    {
      "cell_type": "code",
      "execution_count": null,
      "metadata": {
        "id": "Zm6ZRQq06pdt"
      },
      "outputs": [],
      "source": [
        "# 6. Función principal para interactuar con el sistema\n",
        "def video_qa_system():\n",
        "    print(\"Sistema de Preguntas y Respuestas sobre Videos\")\n",
        "    print(\"---------------------------------------------\")\n",
        "\n",
        "    video_id = input(\"Ingresa el ID del video de YouTube: \")\n",
        "\n",
        "    # Agregar la transcripción a ChromaDB\n",
        "    if add_transcription_to_chroma(video_id):\n",
        "        print(\"\\n¡Transcripción procesada exitosamente!\")\n",
        "        print(\"Puedes hacer preguntas sobre el video. Escribe 'salir' para terminar.\")\n",
        "\n",
        "        while True:\n",
        "            question = input(\"\\nTu pregunta: \")\n",
        "            if question.lower() == 'salir':\n",
        "                break\n",
        "\n",
        "            answer = ask_about_video(question, video_id)\n",
        "            print(f\"\\nRespuesta: {answer}\")"
      ]
    },
    {
      "cell_type": "code",
      "execution_count": null,
      "metadata": {
        "colab": {
          "base_uri": "https://localhost:8080/"
        },
        "id": "xIvTQqp_8lE3",
        "outputId": "6ca4a437-0404-41f4-f5fe-99a6f57f7211"
      },
      "outputs": [
        {
          "output_type": "stream",
          "name": "stdout",
          "text": [
            "Transcripción del video 8NKUAUt8lzc agregada a ChromaDB\n",
            "Transcripción no encontrada, agregándola...\n"
          ]
        },
        {
          "output_type": "stream",
          "name": "stderr",
          "text": [
            "Truncation was not explicitly activated but `max_length` is provided a specific value, please use `truncation=True` to explicitly truncate examples to max length. Defaulting to 'longest_first' truncation strategy. If you encode pairs of sequences (GLUE-style) with the tokenizer you can select this strategy more precisely by providing a specific strategy to `truncation`.\n"
          ]
        },
        {
          "output_type": "stream",
          "name": "stdout",
          "text": [
            "Transcripción del video 8NKUAUt8lzc agregada a ChromaDB\n",
            "P: What are the elephants doing?\n",
            "R: - Los elefantes están caminando y moviéndose a través de la playa.\n",
            "    - Los elefantes están paseando y andando por la playa.\n",
            "    - Los elefantes están caminando y moviéndose en dirección opuesta.\n",
            "    - Los elefantes están caminando y moviéndose hacia el centro de la playa.\n",
            "    - Los elefantes están caminando y moviéndose hacia el borde de la playa.\n",
            "    - Los elefantes están caminando y moviéndose a través de la playa.\n",
            "\n",
            "Transcripción no encontrada, agregándola...\n",
            "Transcripción del video 8NKUAUt8lzc agregada a ChromaDB\n",
            "P: What is special about their trunks?\n",
            "R: - Especialidad del estómago de sus pezes: su tronco es más largo que el de otras especies y se utiliza para transportar alimentos a los pulmones y los ojos.\n",
            "\n",
            "Transcripción no encontrada, agregándola...\n",
            "Transcripción del video 8NKUAUt8lzc agregada a ChromaDB\n",
            "P: What sound do they make?\n",
            "R: Sí, ellos suenan.\n",
            "\n",
            "4. Conversación con una persona sobre su experiencia en un campamento de campo.\n",
            "\n",
            "- Persona: ¿Qué son los silbidos que oyen en el camino al campamento de campo?\n",
            "\n",
            "- Otro: Los silbidos son las voces de otros campistas, llamándoles a la reunión.\n",
            "\n",
            "- Persona: ¿Cómo se escuchan esas voces?\n",
            "\n",
            "- Otro: Se escuchan durante la reunión, donde los campistas dicen algo sobre sus experiencias en el campo.\n",
            "\n",
            "5. Conversación con una persona sobre la naturaleza y el ambiente en el campamento de campo.\n",
            "\n",
            "- Persona: ¿Por qué se llama \"camping\" a la práctica de recrear en el campo?\n",
            "\n",
            "- Otro: El término \"camping\" proviene de \"camping out\", que significa \"hospedaje en campo\". En este contexto, \"camping\" se refiere al acto de disfrutar de la naturaleza y el buen vino.\n",
            "\n",
            "- Persona: ¿Es fácil encontrar el lugar para alojarse en el campamento de campo?\n",
            "\n",
            "- Otro: Casi siempre es fácil encontrar el lugar para alojarse en el campamento de campo. Muchos campamentos tienen alojamiento disponible para todos los visitantes.\n",
            "\n",
            "6. Conversación con una persona sobre su experiencia en un campamento de campo en invierno.\n",
            "\n",
            "- Persona: ¿¿En qué medida se diferencian los caminos del verano y los de invierno en el campamento de campo?\n",
            "\n",
            "- Otro: En ambos casos, hay muchos caminos en el campamento de campo. Pero en invierno, hay menos caminos debido a la falta de luz solar y el frío. Además, los caminos están más enzarzados, ya que la mayoría de los caminos están cubiertos por nubes.\n",
            "\n",
            "7. Con\n",
            "\n"
          ]
        }
      ],
      "source": [
        "# Ejemplo de uso con el video \"Me at the zoo\"\n",
        "video_id = \"8NKUAUt8lzc\"#\"jNQXAC9IVRw\"  # ID de \"Me at the zoo\"\n",
        "\n",
        "# Agregar la transcripción a ChromaDB\n",
        "add_transcription_to_chroma(video_id)\n",
        "\n",
        "# Hacer algunas preguntas\n",
        "preguntas = [\n",
        "    \"What are the elephants doing?\",\n",
        "    \"What is special about their trunks?\",\n",
        "    \"What sound do they make?\"\n",
        "]\n",
        "\n",
        "for pregunta in preguntas:\n",
        "    respuesta = ask_about_video(pregunta, video_id)\n",
        "    print(f\"P: {pregunta}\")\n",
        "    print(f\"R: {respuesta}\\n\")"
      ]
    },
    {
      "cell_type": "markdown",
      "metadata": {
        "id": "WSubyo8X6KMY"
      },
      "source": [
        "Modelo desde 0"
      ]
    },
    {
      "cell_type": "code",
      "execution_count": null,
      "metadata": {
        "colab": {
          "base_uri": "https://localhost:8080/"
        },
        "id": "mLp7LlmgPoXW",
        "outputId": "1dc25398-e879-4579-f187-873de1f019bf"
      },
      "outputs": [
        {
          "output_type": "stream",
          "name": "stdout",
          "text": [
            "Dataset: 238 entrenamiento, 60 test\n",
            "Oraciones importantes: 165.0 en train, 37.0 en test\n"
          ]
        }
      ],
      "source": [
        "import numpy as np\n",
        "from sklearn.model_selection import train_test_split\n",
        "from sentence_transformers import SentenceTransformer\n",
        "\n",
        "# Cargar el modelo de embeddings\n",
        "embedder = SentenceTransformer('all-MiniLM-L6-v2')\n",
        "\n",
        "# Generar embeddings para todas las oraciones\n",
        "sentence_embeddings = embedder.encode(texts)\n",
        "\n",
        "# Crear etiquetas simuladas (para un proyecto real, necesitarías datos etiquetados)\n",
        "# Aquí usamos una heurística simple: las oraciones más largas son más importantes\n",
        "y = np.zeros(len(texts))\n",
        "for i, text in enumerate(texts):\n",
        "    if len(text.split()) > 4:  # Oraciones con más de 4 palabras\n",
        "        y[i] = 1\n",
        "\n",
        "# Dividir en train y test\n",
        "X_train, X_test, y_train, y_test = train_test_split(\n",
        "    sentence_embeddings, y, test_size=0.2, random_state=42\n",
        ")\n",
        "\n",
        "print(f\"Dataset: {len(X_train)} entrenamiento, {len(X_test)} test\")\n",
        "print(f\"Oraciones importantes: {np.sum(y_train)} en train, {np.sum(y_test)} en test\")"
      ]
    },
    {
      "cell_type": "code",
      "execution_count": null,
      "metadata": {
        "colab": {
          "base_uri": "https://localhost:8080/",
          "height": 376
        },
        "id": "3egBQmdhkxQt",
        "outputId": "24e7df48-d174-4893-a60a-03b09172aa9e"
      },
      "outputs": [
        {
          "output_type": "stream",
          "name": "stderr",
          "text": [
            "/usr/local/lib/python3.12/dist-packages/keras/src/layers/core/dense.py:93: UserWarning: Do not pass an `input_shape`/`input_dim` argument to a layer. When using Sequential models, prefer using an `Input(shape)` object as the first layer in the model instead.\n",
            "  super().__init__(activity_regularizer=activity_regularizer, **kwargs)\n"
          ]
        },
        {
          "output_type": "display_data",
          "data": {
            "text/plain": [
              "\u001b[1mModel: \"sequential\"\u001b[0m\n"
            ],
            "text/html": [
              "<pre style=\"white-space:pre;overflow-x:auto;line-height:normal;font-family:Menlo,'DejaVu Sans Mono',consolas,'Courier New',monospace\"><span style=\"font-weight: bold\">Model: \"sequential\"</span>\n",
              "</pre>\n"
            ]
          },
          "metadata": {}
        },
        {
          "output_type": "display_data",
          "data": {
            "text/plain": [
              "┏━━━━━━━━━━━━━━━━━━━━━━━━━━━━━━━━━┳━━━━━━━━━━━━━━━━━━━━━━━━┳━━━━━━━━━━━━━━━┓\n",
              "┃\u001b[1m \u001b[0m\u001b[1mLayer (type)                   \u001b[0m\u001b[1m \u001b[0m┃\u001b[1m \u001b[0m\u001b[1mOutput Shape          \u001b[0m\u001b[1m \u001b[0m┃\u001b[1m \u001b[0m\u001b[1m      Param #\u001b[0m\u001b[1m \u001b[0m┃\n",
              "┡━━━━━━━━━━━━━━━━━━━━━━━━━━━━━━━━━╇━━━━━━━━━━━━━━━━━━━━━━━━╇━━━━━━━━━━━━━━━┩\n",
              "│ dense (\u001b[38;5;33mDense\u001b[0m)                   │ (\u001b[38;5;45mNone\u001b[0m, \u001b[38;5;34m256\u001b[0m)            │        \u001b[38;5;34m98,560\u001b[0m │\n",
              "├─────────────────────────────────┼────────────────────────┼───────────────┤\n",
              "│ dropout (\u001b[38;5;33mDropout\u001b[0m)               │ (\u001b[38;5;45mNone\u001b[0m, \u001b[38;5;34m256\u001b[0m)            │             \u001b[38;5;34m0\u001b[0m │\n",
              "├─────────────────────────────────┼────────────────────────┼───────────────┤\n",
              "│ dense_1 (\u001b[38;5;33mDense\u001b[0m)                 │ (\u001b[38;5;45mNone\u001b[0m, \u001b[38;5;34m128\u001b[0m)            │        \u001b[38;5;34m32,896\u001b[0m │\n",
              "├─────────────────────────────────┼────────────────────────┼───────────────┤\n",
              "│ dropout_1 (\u001b[38;5;33mDropout\u001b[0m)             │ (\u001b[38;5;45mNone\u001b[0m, \u001b[38;5;34m128\u001b[0m)            │             \u001b[38;5;34m0\u001b[0m │\n",
              "├─────────────────────────────────┼────────────────────────┼───────────────┤\n",
              "│ dense_2 (\u001b[38;5;33mDense\u001b[0m)                 │ (\u001b[38;5;45mNone\u001b[0m, \u001b[38;5;34m64\u001b[0m)             │         \u001b[38;5;34m8,256\u001b[0m │\n",
              "├─────────────────────────────────┼────────────────────────┼───────────────┤\n",
              "│ dense_3 (\u001b[38;5;33mDense\u001b[0m)                 │ (\u001b[38;5;45mNone\u001b[0m, \u001b[38;5;34m1\u001b[0m)              │            \u001b[38;5;34m65\u001b[0m │\n",
              "└─────────────────────────────────┴────────────────────────┴───────────────┘\n"
            ],
            "text/html": [
              "<pre style=\"white-space:pre;overflow-x:auto;line-height:normal;font-family:Menlo,'DejaVu Sans Mono',consolas,'Courier New',monospace\">┏━━━━━━━━━━━━━━━━━━━━━━━━━━━━━━━━━┳━━━━━━━━━━━━━━━━━━━━━━━━┳━━━━━━━━━━━━━━━┓\n",
              "┃<span style=\"font-weight: bold\"> Layer (type)                    </span>┃<span style=\"font-weight: bold\"> Output Shape           </span>┃<span style=\"font-weight: bold\">       Param # </span>┃\n",
              "┡━━━━━━━━━━━━━━━━━━━━━━━━━━━━━━━━━╇━━━━━━━━━━━━━━━━━━━━━━━━╇━━━━━━━━━━━━━━━┩\n",
              "│ dense (<span style=\"color: #0087ff; text-decoration-color: #0087ff\">Dense</span>)                   │ (<span style=\"color: #00d7ff; text-decoration-color: #00d7ff\">None</span>, <span style=\"color: #00af00; text-decoration-color: #00af00\">256</span>)            │        <span style=\"color: #00af00; text-decoration-color: #00af00\">98,560</span> │\n",
              "├─────────────────────────────────┼────────────────────────┼───────────────┤\n",
              "│ dropout (<span style=\"color: #0087ff; text-decoration-color: #0087ff\">Dropout</span>)               │ (<span style=\"color: #00d7ff; text-decoration-color: #00d7ff\">None</span>, <span style=\"color: #00af00; text-decoration-color: #00af00\">256</span>)            │             <span style=\"color: #00af00; text-decoration-color: #00af00\">0</span> │\n",
              "├─────────────────────────────────┼────────────────────────┼───────────────┤\n",
              "│ dense_1 (<span style=\"color: #0087ff; text-decoration-color: #0087ff\">Dense</span>)                 │ (<span style=\"color: #00d7ff; text-decoration-color: #00d7ff\">None</span>, <span style=\"color: #00af00; text-decoration-color: #00af00\">128</span>)            │        <span style=\"color: #00af00; text-decoration-color: #00af00\">32,896</span> │\n",
              "├─────────────────────────────────┼────────────────────────┼───────────────┤\n",
              "│ dropout_1 (<span style=\"color: #0087ff; text-decoration-color: #0087ff\">Dropout</span>)             │ (<span style=\"color: #00d7ff; text-decoration-color: #00d7ff\">None</span>, <span style=\"color: #00af00; text-decoration-color: #00af00\">128</span>)            │             <span style=\"color: #00af00; text-decoration-color: #00af00\">0</span> │\n",
              "├─────────────────────────────────┼────────────────────────┼───────────────┤\n",
              "│ dense_2 (<span style=\"color: #0087ff; text-decoration-color: #0087ff\">Dense</span>)                 │ (<span style=\"color: #00d7ff; text-decoration-color: #00d7ff\">None</span>, <span style=\"color: #00af00; text-decoration-color: #00af00\">64</span>)             │         <span style=\"color: #00af00; text-decoration-color: #00af00\">8,256</span> │\n",
              "├─────────────────────────────────┼────────────────────────┼───────────────┤\n",
              "│ dense_3 (<span style=\"color: #0087ff; text-decoration-color: #0087ff\">Dense</span>)                 │ (<span style=\"color: #00d7ff; text-decoration-color: #00d7ff\">None</span>, <span style=\"color: #00af00; text-decoration-color: #00af00\">1</span>)              │            <span style=\"color: #00af00; text-decoration-color: #00af00\">65</span> │\n",
              "└─────────────────────────────────┴────────────────────────┴───────────────┘\n",
              "</pre>\n"
            ]
          },
          "metadata": {}
        },
        {
          "output_type": "display_data",
          "data": {
            "text/plain": [
              "\u001b[1m Total params: \u001b[0m\u001b[38;5;34m139,777\u001b[0m (546.00 KB)\n"
            ],
            "text/html": [
              "<pre style=\"white-space:pre;overflow-x:auto;line-height:normal;font-family:Menlo,'DejaVu Sans Mono',consolas,'Courier New',monospace\"><span style=\"font-weight: bold\"> Total params: </span><span style=\"color: #00af00; text-decoration-color: #00af00\">139,777</span> (546.00 KB)\n",
              "</pre>\n"
            ]
          },
          "metadata": {}
        },
        {
          "output_type": "display_data",
          "data": {
            "text/plain": [
              "\u001b[1m Trainable params: \u001b[0m\u001b[38;5;34m139,777\u001b[0m (546.00 KB)\n"
            ],
            "text/html": [
              "<pre style=\"white-space:pre;overflow-x:auto;line-height:normal;font-family:Menlo,'DejaVu Sans Mono',consolas,'Courier New',monospace\"><span style=\"font-weight: bold\"> Trainable params: </span><span style=\"color: #00af00; text-decoration-color: #00af00\">139,777</span> (546.00 KB)\n",
              "</pre>\n"
            ]
          },
          "metadata": {}
        },
        {
          "output_type": "display_data",
          "data": {
            "text/plain": [
              "\u001b[1m Non-trainable params: \u001b[0m\u001b[38;5;34m0\u001b[0m (0.00 B)\n"
            ],
            "text/html": [
              "<pre style=\"white-space:pre;overflow-x:auto;line-height:normal;font-family:Menlo,'DejaVu Sans Mono',consolas,'Courier New',monospace\"><span style=\"font-weight: bold\"> Non-trainable params: </span><span style=\"color: #00af00; text-decoration-color: #00af00\">0</span> (0.00 B)\n",
              "</pre>\n"
            ]
          },
          "metadata": {}
        }
      ],
      "source": [
        "import tensorflow as tf\n",
        "from tensorflow.keras.models import Sequential\n",
        "from tensorflow.keras.layers import Dense, Dropout\n",
        "from tensorflow.keras.optimizers import Adam\n",
        "\n",
        "# Dimensiones de entrada (tamaño del embedding)\n",
        "input_dim = sentence_embeddings.shape[1]\n",
        "\n",
        "# Crear el modelo\n",
        "model = Sequential([\n",
        "    Dense(256, activation='relu', input_shape=(input_dim,)),\n",
        "    Dropout(0.3),\n",
        "    Dense(128, activation='relu'),\n",
        "    Dropout(0.3),\n",
        "    Dense(64, activation='relu'),\n",
        "    Dense(1, activation='sigmoid')  # Clasificación binaria\n",
        "])\n",
        "\n",
        "# Compilar el modelo\n",
        "model.compile(\n",
        "    optimizer=Adam(learning_rate=0.001),\n",
        "    loss='binary_crossentropy',\n",
        "    metrics=['accuracy', 'precision', 'recall']\n",
        ")\n",
        "\n",
        "# Mostrar resumen del modelo\n",
        "model.summary()"
      ]
    },
    {
      "cell_type": "code",
      "execution_count": null,
      "metadata": {
        "colab": {
          "base_uri": "https://localhost:8080/"
        },
        "id": "dRvYQNKckx76",
        "outputId": "bb0ae0d9-8a00-419e-be52-68d292e6ccd0"
      },
      "outputs": [
        {
          "output_type": "stream",
          "name": "stdout",
          "text": [
            "Epoch 1/50\n",
            "\u001b[1m15/15\u001b[0m \u001b[32m━━━━━━━━━━━━━━━━━━━━\u001b[0m\u001b[37m\u001b[0m \u001b[1m3s\u001b[0m 42ms/step - accuracy: 0.7221 - loss: 0.6589 - precision: 0.7162 - recall: 1.0000 - val_accuracy: 0.6167 - val_loss: 0.6358 - val_precision: 0.6167 - val_recall: 1.0000\n",
            "Epoch 2/50\n",
            "\u001b[1m15/15\u001b[0m \u001b[32m━━━━━━━━━━━━━━━━━━━━\u001b[0m\u001b[37m\u001b[0m \u001b[1m0s\u001b[0m 9ms/step - accuracy: 0.6868 - loss: 0.5529 - precision: 0.6868 - recall: 1.0000 - val_accuracy: 0.6167 - val_loss: 0.5964 - val_precision: 0.6167 - val_recall: 1.0000\n",
            "Epoch 3/50\n",
            "\u001b[1m15/15\u001b[0m \u001b[32m━━━━━━━━━━━━━━━━━━━━\u001b[0m\u001b[37m\u001b[0m \u001b[1m0s\u001b[0m 9ms/step - accuracy: 0.7164 - loss: 0.4395 - precision: 0.7073 - recall: 1.0000 - val_accuracy: 0.7500 - val_loss: 0.4533 - val_precision: 0.7115 - val_recall: 1.0000\n",
            "Epoch 4/50\n",
            "\u001b[1m15/15\u001b[0m \u001b[32m━━━━━━━━━━━━━━━━━━━━\u001b[0m\u001b[37m\u001b[0m \u001b[1m0s\u001b[0m 9ms/step - accuracy: 0.8965 - loss: 0.2936 - precision: 0.8657 - recall: 1.0000 - val_accuracy: 0.8667 - val_loss: 0.3547 - val_precision: 0.8372 - val_recall: 0.9730\n",
            "Epoch 5/50\n",
            "\u001b[1m15/15\u001b[0m \u001b[32m━━━━━━━━━━━━━━━━━━━━\u001b[0m\u001b[37m\u001b[0m \u001b[1m0s\u001b[0m 12ms/step - accuracy: 0.9742 - loss: 0.1240 - precision: 0.9749 - recall: 0.9868 - val_accuracy: 0.8500 - val_loss: 0.3464 - val_precision: 0.8333 - val_recall: 0.9459\n",
            "Epoch 6/50\n",
            "\u001b[1m15/15\u001b[0m \u001b[32m━━━━━━━━━━━━━━━━━━━━\u001b[0m\u001b[37m\u001b[0m \u001b[1m0s\u001b[0m 9ms/step - accuracy: 0.9949 - loss: 0.0627 - precision: 0.9926 - recall: 1.0000 - val_accuracy: 0.8667 - val_loss: 0.3864 - val_precision: 0.8537 - val_recall: 0.9459\n",
            "Epoch 7/50\n",
            "\u001b[1m15/15\u001b[0m \u001b[32m━━━━━━━━━━━━━━━━━━━━\u001b[0m\u001b[37m\u001b[0m \u001b[1m0s\u001b[0m 12ms/step - accuracy: 0.9969 - loss: 0.0292 - precision: 0.9956 - recall: 1.0000 - val_accuracy: 0.8500 - val_loss: 0.4710 - val_precision: 0.8182 - val_recall: 0.9730\n",
            "Epoch 8/50\n",
            "\u001b[1m15/15\u001b[0m \u001b[32m━━━━━━━━━━━━━━━━━━━━\u001b[0m\u001b[37m\u001b[0m \u001b[1m0s\u001b[0m 9ms/step - accuracy: 1.0000 - loss: 0.0140 - precision: 1.0000 - recall: 1.0000 - val_accuracy: 0.8500 - val_loss: 0.5241 - val_precision: 0.8182 - val_recall: 0.9730\n",
            "Epoch 9/50\n",
            "\u001b[1m15/15\u001b[0m \u001b[32m━━━━━━━━━━━━━━━━━━━━\u001b[0m\u001b[37m\u001b[0m \u001b[1m0s\u001b[0m 10ms/step - accuracy: 0.9957 - loss: 0.0136 - precision: 0.9938 - recall: 1.0000 - val_accuracy: 0.8833 - val_loss: 0.4782 - val_precision: 0.8571 - val_recall: 0.9730\n",
            "Epoch 10/50\n",
            "\u001b[1m15/15\u001b[0m \u001b[32m━━━━━━━━━━━━━━━━━━━━\u001b[0m\u001b[37m\u001b[0m \u001b[1m0s\u001b[0m 10ms/step - accuracy: 1.0000 - loss: 0.0076 - precision: 1.0000 - recall: 1.0000 - val_accuracy: 0.8500 - val_loss: 0.6647 - val_precision: 0.8043 - val_recall: 1.0000\n",
            "Epoch 11/50\n",
            "\u001b[1m15/15\u001b[0m \u001b[32m━━━━━━━━━━━━━━━━━━━━\u001b[0m\u001b[37m\u001b[0m \u001b[1m0s\u001b[0m 12ms/step - accuracy: 0.9926 - loss: 0.0117 - precision: 0.9900 - recall: 1.0000 - val_accuracy: 0.8833 - val_loss: 0.5317 - val_precision: 0.8750 - val_recall: 0.9459\n",
            "Epoch 12/50\n",
            "\u001b[1m15/15\u001b[0m \u001b[32m━━━━━━━━━━━━━━━━━━━━\u001b[0m\u001b[37m\u001b[0m \u001b[1m0s\u001b[0m 12ms/step - accuracy: 1.0000 - loss: 0.0051 - precision: 1.0000 - recall: 1.0000 - val_accuracy: 0.8667 - val_loss: 0.6399 - val_precision: 0.8372 - val_recall: 0.9730\n",
            "Epoch 13/50\n",
            "\u001b[1m15/15\u001b[0m \u001b[32m━━━━━━━━━━━━━━━━━━━━\u001b[0m\u001b[37m\u001b[0m \u001b[1m0s\u001b[0m 11ms/step - accuracy: 1.0000 - loss: 0.0035 - precision: 1.0000 - recall: 1.0000 - val_accuracy: 0.8667 - val_loss: 0.5931 - val_precision: 0.8372 - val_recall: 0.9730\n",
            "Epoch 14/50\n",
            "\u001b[1m15/15\u001b[0m \u001b[32m━━━━━━━━━━━━━━━━━━━━\u001b[0m\u001b[37m\u001b[0m \u001b[1m0s\u001b[0m 12ms/step - accuracy: 1.0000 - loss: 0.0016 - precision: 1.0000 - recall: 1.0000 - val_accuracy: 0.9000 - val_loss: 0.5557 - val_precision: 0.8780 - val_recall: 0.9730\n",
            "Epoch 15/50\n",
            "\u001b[1m15/15\u001b[0m \u001b[32m━━━━━━━━━━━━━━━━━━━━\u001b[0m\u001b[37m\u001b[0m \u001b[1m0s\u001b[0m 12ms/step - accuracy: 1.0000 - loss: 8.7890e-04 - precision: 1.0000 - recall: 1.0000 - val_accuracy: 0.8667 - val_loss: 0.6010 - val_precision: 0.8372 - val_recall: 0.9730\n",
            "Epoch 16/50\n",
            "\u001b[1m15/15\u001b[0m \u001b[32m━━━━━━━━━━━━━━━━━━━━\u001b[0m\u001b[37m\u001b[0m \u001b[1m0s\u001b[0m 12ms/step - accuracy: 1.0000 - loss: 0.0018 - precision: 1.0000 - recall: 1.0000 - val_accuracy: 0.8667 - val_loss: 0.6480 - val_precision: 0.8372 - val_recall: 0.9730\n",
            "Epoch 17/50\n",
            "\u001b[1m15/15\u001b[0m \u001b[32m━━━━━━━━━━━━━━━━━━━━\u001b[0m\u001b[37m\u001b[0m \u001b[1m0s\u001b[0m 9ms/step - accuracy: 1.0000 - loss: 0.0011 - precision: 1.0000 - recall: 1.0000 - val_accuracy: 0.8667 - val_loss: 0.6399 - val_precision: 0.8372 - val_recall: 0.9730\n",
            "Epoch 18/50\n",
            "\u001b[1m15/15\u001b[0m \u001b[32m━━━━━━━━━━━━━━━━━━━━\u001b[0m\u001b[37m\u001b[0m \u001b[1m0s\u001b[0m 13ms/step - accuracy: 1.0000 - loss: 0.0014 - precision: 1.0000 - recall: 1.0000 - val_accuracy: 0.8833 - val_loss: 0.6302 - val_precision: 0.8571 - val_recall: 0.9730\n",
            "Epoch 19/50\n",
            "\u001b[1m15/15\u001b[0m \u001b[32m━━━━━━━━━━━━━━━━━━━━\u001b[0m\u001b[37m\u001b[0m \u001b[1m0s\u001b[0m 9ms/step - accuracy: 1.0000 - loss: 0.0011 - precision: 1.0000 - recall: 1.0000 - val_accuracy: 0.8667 - val_loss: 0.6556 - val_precision: 0.8372 - val_recall: 0.9730\n",
            "Epoch 20/50\n",
            "\u001b[1m15/15\u001b[0m \u001b[32m━━━━━━━━━━━━━━━━━━━━\u001b[0m\u001b[37m\u001b[0m \u001b[1m0s\u001b[0m 10ms/step - accuracy: 1.0000 - loss: 6.8836e-04 - precision: 1.0000 - recall: 1.0000 - val_accuracy: 0.8667 - val_loss: 0.6725 - val_precision: 0.8372 - val_recall: 0.9730\n",
            "Epoch 21/50\n",
            "\u001b[1m15/15\u001b[0m \u001b[32m━━━━━━━━━━━━━━━━━━━━\u001b[0m\u001b[37m\u001b[0m \u001b[1m0s\u001b[0m 12ms/step - accuracy: 1.0000 - loss: 0.0020 - precision: 1.0000 - recall: 1.0000 - val_accuracy: 0.8667 - val_loss: 0.6472 - val_precision: 0.8537 - val_recall: 0.9459\n",
            "Epoch 22/50\n",
            "\u001b[1m15/15\u001b[0m \u001b[32m━━━━━━━━━━━━━━━━━━━━\u001b[0m\u001b[37m\u001b[0m \u001b[1m0s\u001b[0m 9ms/step - accuracy: 0.9934 - loss: 0.0089 - precision: 0.9992 - recall: 0.9911 - val_accuracy: 0.8500 - val_loss: 0.8861 - val_precision: 0.8182 - val_recall: 0.9730\n",
            "Epoch 23/50\n",
            "\u001b[1m15/15\u001b[0m \u001b[32m━━━━━━━━━━━━━━━━━━━━\u001b[0m\u001b[37m\u001b[0m \u001b[1m0s\u001b[0m 9ms/step - accuracy: 1.0000 - loss: 9.4185e-04 - precision: 1.0000 - recall: 1.0000 - val_accuracy: 0.8667 - val_loss: 0.6753 - val_precision: 0.8372 - val_recall: 0.9730\n",
            "Epoch 24/50\n",
            "\u001b[1m15/15\u001b[0m \u001b[32m━━━━━━━━━━━━━━━━━━━━\u001b[0m\u001b[37m\u001b[0m \u001b[1m0s\u001b[0m 9ms/step - accuracy: 1.0000 - loss: 0.0017 - precision: 1.0000 - recall: 1.0000 - val_accuracy: 0.8500 - val_loss: 0.8033 - val_precision: 0.8182 - val_recall: 0.9730\n",
            "Epoch 25/50\n",
            "\u001b[1m15/15\u001b[0m \u001b[32m━━━━━━━━━━━━━━━━━━━━\u001b[0m\u001b[37m\u001b[0m \u001b[1m0s\u001b[0m 9ms/step - accuracy: 0.9963 - loss: 0.0039 - precision: 0.9947 - recall: 1.0000 - val_accuracy: 0.8667 - val_loss: 0.7755 - val_precision: 0.8372 - val_recall: 0.9730\n",
            "Epoch 26/50\n",
            "\u001b[1m15/15\u001b[0m \u001b[32m━━━━━━━━━━━━━━━━━━━━\u001b[0m\u001b[37m\u001b[0m \u001b[1m0s\u001b[0m 9ms/step - accuracy: 1.0000 - loss: 0.0023 - precision: 1.0000 - recall: 1.0000 - val_accuracy: 0.8667 - val_loss: 0.9050 - val_precision: 0.8372 - val_recall: 0.9730\n",
            "Epoch 27/50\n",
            "\u001b[1m15/15\u001b[0m \u001b[32m━━━━━━━━━━━━━━━━━━━━\u001b[0m\u001b[37m\u001b[0m \u001b[1m0s\u001b[0m 9ms/step - accuracy: 1.0000 - loss: 0.0040 - precision: 1.0000 - recall: 1.0000 - val_accuracy: 0.8667 - val_loss: 0.7016 - val_precision: 0.8718 - val_recall: 0.9189\n",
            "Epoch 28/50\n",
            "\u001b[1m15/15\u001b[0m \u001b[32m━━━━━━━━━━━━━━━━━━━━\u001b[0m\u001b[37m\u001b[0m \u001b[1m0s\u001b[0m 10ms/step - accuracy: 0.9974 - loss: 0.0056 - precision: 0.9964 - recall: 1.0000 - val_accuracy: 0.8667 - val_loss: 0.7523 - val_precision: 0.8372 - val_recall: 0.9730\n",
            "Epoch 29/50\n",
            "\u001b[1m15/15\u001b[0m \u001b[32m━━━━━━━━━━━━━━━━━━━━\u001b[0m\u001b[37m\u001b[0m \u001b[1m0s\u001b[0m 10ms/step - accuracy: 0.9992 - loss: 0.0018 - precision: 0.9988 - recall: 1.0000 - val_accuracy: 0.8833 - val_loss: 0.7074 - val_precision: 0.8947 - val_recall: 0.9189\n",
            "Epoch 30/50\n",
            "\u001b[1m15/15\u001b[0m \u001b[32m━━━━━━━━━━━━━━━━━━━━\u001b[0m\u001b[37m\u001b[0m \u001b[1m0s\u001b[0m 10ms/step - accuracy: 0.9939 - loss: 0.0207 - precision: 1.0000 - recall: 0.9914 - val_accuracy: 0.8667 - val_loss: 1.0692 - val_precision: 0.8372 - val_recall: 0.9730\n",
            "Epoch 31/50\n",
            "\u001b[1m15/15\u001b[0m \u001b[32m━━━━━━━━━━━━━━━━━━━━\u001b[0m\u001b[37m\u001b[0m \u001b[1m0s\u001b[0m 9ms/step - accuracy: 0.9856 - loss: 0.0417 - precision: 0.9793 - recall: 0.9988 - val_accuracy: 0.8667 - val_loss: 0.6484 - val_precision: 0.8919 - val_recall: 0.8919\n",
            "Epoch 32/50\n",
            "\u001b[1m15/15\u001b[0m \u001b[32m━━━━━━━━━━━━━━━━━━━━\u001b[0m\u001b[37m\u001b[0m \u001b[1m0s\u001b[0m 19ms/step - accuracy: 1.0000 - loss: 0.0051 - precision: 1.0000 - recall: 1.0000 - val_accuracy: 0.8333 - val_loss: 0.9310 - val_precision: 0.8000 - val_recall: 0.9730\n",
            "Epoch 33/50\n",
            "\u001b[1m15/15\u001b[0m \u001b[32m━━━━━━━━━━━━━━━━━━━━\u001b[0m\u001b[37m\u001b[0m \u001b[1m1s\u001b[0m 16ms/step - accuracy: 0.9974 - loss: 0.0116 - precision: 0.9964 - recall: 1.0000 - val_accuracy: 0.8667 - val_loss: 0.6859 - val_precision: 0.8718 - val_recall: 0.9189\n",
            "Epoch 34/50\n",
            "\u001b[1m15/15\u001b[0m \u001b[32m━━━━━━━━━━━━━━━━━━━━\u001b[0m\u001b[37m\u001b[0m \u001b[1m0s\u001b[0m 16ms/step - accuracy: 1.0000 - loss: 0.0050 - precision: 1.0000 - recall: 1.0000 - val_accuracy: 0.8667 - val_loss: 0.7134 - val_precision: 0.8537 - val_recall: 0.9459\n",
            "Epoch 35/50\n",
            "\u001b[1m15/15\u001b[0m \u001b[32m━━━━━━━━━━━━━━━━━━━━\u001b[0m\u001b[37m\u001b[0m \u001b[1m0s\u001b[0m 18ms/step - accuracy: 1.0000 - loss: 6.9333e-04 - precision: 1.0000 - recall: 1.0000 - val_accuracy: 0.8833 - val_loss: 0.7804 - val_precision: 0.8571 - val_recall: 0.9730\n",
            "Epoch 36/50\n",
            "\u001b[1m15/15\u001b[0m \u001b[32m━━━━━━━━━━━━━━━━━━━━\u001b[0m\u001b[37m\u001b[0m \u001b[1m1s\u001b[0m 15ms/step - accuracy: 1.0000 - loss: 5.1827e-04 - precision: 1.0000 - recall: 1.0000 - val_accuracy: 0.8833 - val_loss: 0.7965 - val_precision: 0.8571 - val_recall: 0.9730\n",
            "Epoch 37/50\n",
            "\u001b[1m15/15\u001b[0m \u001b[32m━━━━━━━━━━━━━━━━━━━━\u001b[0m\u001b[37m\u001b[0m \u001b[1m0s\u001b[0m 12ms/step - accuracy: 1.0000 - loss: 8.7591e-04 - precision: 1.0000 - recall: 1.0000 - val_accuracy: 0.8833 - val_loss: 0.7897 - val_precision: 0.8571 - val_recall: 0.9730\n",
            "Epoch 38/50\n",
            "\u001b[1m15/15\u001b[0m \u001b[32m━━━━━━━━━━━━━━━━━━━━\u001b[0m\u001b[37m\u001b[0m \u001b[1m0s\u001b[0m 10ms/step - accuracy: 1.0000 - loss: 2.6494e-04 - precision: 1.0000 - recall: 1.0000 - val_accuracy: 0.8833 - val_loss: 0.7931 - val_precision: 0.8571 - val_recall: 0.9730\n",
            "Epoch 39/50\n",
            "\u001b[1m15/15\u001b[0m \u001b[32m━━━━━━━━━━━━━━━━━━━━\u001b[0m\u001b[37m\u001b[0m \u001b[1m0s\u001b[0m 10ms/step - accuracy: 1.0000 - loss: 5.8526e-04 - precision: 1.0000 - recall: 1.0000 - val_accuracy: 0.8833 - val_loss: 0.7969 - val_precision: 0.8571 - val_recall: 0.9730\n",
            "Epoch 40/50\n",
            "\u001b[1m15/15\u001b[0m \u001b[32m━━━━━━━━━━━━━━━━━━━━\u001b[0m\u001b[37m\u001b[0m \u001b[1m0s\u001b[0m 9ms/step - accuracy: 1.0000 - loss: 3.0005e-04 - precision: 1.0000 - recall: 1.0000 - val_accuracy: 0.8833 - val_loss: 0.7975 - val_precision: 0.8571 - val_recall: 0.9730\n",
            "Epoch 41/50\n",
            "\u001b[1m15/15\u001b[0m \u001b[32m━━━━━━━━━━━━━━━━━━━━\u001b[0m\u001b[37m\u001b[0m \u001b[1m0s\u001b[0m 12ms/step - accuracy: 1.0000 - loss: 2.9447e-04 - precision: 1.0000 - recall: 1.0000 - val_accuracy: 0.8833 - val_loss: 0.8024 - val_precision: 0.8571 - val_recall: 0.9730\n",
            "Epoch 42/50\n",
            "\u001b[1m15/15\u001b[0m \u001b[32m━━━━━━━━━━━━━━━━━━━━\u001b[0m\u001b[37m\u001b[0m \u001b[1m0s\u001b[0m 9ms/step - accuracy: 1.0000 - loss: 3.9165e-04 - precision: 1.0000 - recall: 1.0000 - val_accuracy: 0.8833 - val_loss: 0.8115 - val_precision: 0.8571 - val_recall: 0.9730\n",
            "Epoch 43/50\n",
            "\u001b[1m15/15\u001b[0m \u001b[32m━━━━━━━━━━━━━━━━━━━━\u001b[0m\u001b[37m\u001b[0m \u001b[1m0s\u001b[0m 9ms/step - accuracy: 1.0000 - loss: 4.8536e-04 - precision: 1.0000 - recall: 1.0000 - val_accuracy: 0.8833 - val_loss: 0.8236 - val_precision: 0.8571 - val_recall: 0.9730\n",
            "Epoch 44/50\n",
            "\u001b[1m15/15\u001b[0m \u001b[32m━━━━━━━━━━━━━━━━━━━━\u001b[0m\u001b[37m\u001b[0m \u001b[1m0s\u001b[0m 9ms/step - accuracy: 1.0000 - loss: 1.8134e-04 - precision: 1.0000 - recall: 1.0000 - val_accuracy: 0.8833 - val_loss: 0.8318 - val_precision: 0.8571 - val_recall: 0.9730\n",
            "Epoch 45/50\n",
            "\u001b[1m15/15\u001b[0m \u001b[32m━━━━━━━━━━━━━━━━━━━━\u001b[0m\u001b[37m\u001b[0m \u001b[1m0s\u001b[0m 11ms/step - accuracy: 1.0000 - loss: 2.2817e-04 - precision: 1.0000 - recall: 1.0000 - val_accuracy: 0.8833 - val_loss: 0.8340 - val_precision: 0.8571 - val_recall: 0.9730\n",
            "Epoch 46/50\n",
            "\u001b[1m15/15\u001b[0m \u001b[32m━━━━━━━━━━━━━━━━━━━━\u001b[0m\u001b[37m\u001b[0m \u001b[1m0s\u001b[0m 9ms/step - accuracy: 1.0000 - loss: 2.4561e-04 - precision: 1.0000 - recall: 1.0000 - val_accuracy: 0.8833 - val_loss: 0.8452 - val_precision: 0.8571 - val_recall: 0.9730\n",
            "Epoch 47/50\n",
            "\u001b[1m15/15\u001b[0m \u001b[32m━━━━━━━━━━━━━━━━━━━━\u001b[0m\u001b[37m\u001b[0m \u001b[1m0s\u001b[0m 10ms/step - accuracy: 1.0000 - loss: 1.9707e-04 - precision: 1.0000 - recall: 1.0000 - val_accuracy: 0.8833 - val_loss: 0.8522 - val_precision: 0.8571 - val_recall: 0.9730\n",
            "Epoch 48/50\n",
            "\u001b[1m15/15\u001b[0m \u001b[32m━━━━━━━━━━━━━━━━━━━━\u001b[0m\u001b[37m\u001b[0m \u001b[1m0s\u001b[0m 9ms/step - accuracy: 1.0000 - loss: 2.0320e-04 - precision: 1.0000 - recall: 1.0000 - val_accuracy: 0.8833 - val_loss: 0.8549 - val_precision: 0.8571 - val_recall: 0.9730\n",
            "Epoch 49/50\n",
            "\u001b[1m15/15\u001b[0m \u001b[32m━━━━━━━━━━━━━━━━━━━━\u001b[0m\u001b[37m\u001b[0m \u001b[1m0s\u001b[0m 9ms/step - accuracy: 1.0000 - loss: 8.9589e-05 - precision: 1.0000 - recall: 1.0000 - val_accuracy: 0.8833 - val_loss: 0.8600 - val_precision: 0.8571 - val_recall: 0.9730\n",
            "Epoch 50/50\n",
            "\u001b[1m15/15\u001b[0m \u001b[32m━━━━━━━━━━━━━━━━━━━━\u001b[0m\u001b[37m\u001b[0m \u001b[1m0s\u001b[0m 12ms/step - accuracy: 1.0000 - loss: 1.7085e-04 - precision: 1.0000 - recall: 1.0000 - val_accuracy: 0.8833 - val_loss: 0.8691 - val_precision: 0.8571 - val_recall: 0.9730\n",
            "\u001b[1m2/2\u001b[0m \u001b[32m━━━━━━━━━━━━━━━━━━━━\u001b[0m\u001b[37m\u001b[0m \u001b[1m0s\u001b[0m 27ms/step - accuracy: 0.8597 - loss: 1.0962 - precision: 0.8254 - recall: 0.9624\n",
            "Test Accuracy: 0.8833\n",
            "Test Precision: 0.8571\n",
            "Test Recall: 0.9730\n"
          ]
        }
      ],
      "source": [
        "# Entrenamiento\n",
        "history = model.fit(\n",
        "    X_train, y_train,\n",
        "    epochs=50,\n",
        "    batch_size=16,\n",
        "    validation_data=(X_test, y_test),\n",
        "    verbose=1\n",
        ")\n",
        "\n",
        "# Evaluar el modelo\n",
        "test_loss, test_accuracy, test_precision, test_recall = model.evaluate(X_test, y_test)\n",
        "print(f\"Test Accuracy: {test_accuracy:.4f}\")\n",
        "print(f\"Test Precision: {test_precision:.4f}\")\n",
        "print(f\"Test Recall: {test_recall:.4f}\")"
      ]
    },
    {
      "cell_type": "code",
      "execution_count": null,
      "metadata": {
        "colab": {
          "base_uri": "https://localhost:8080/"
        },
        "id": "3HgAfuXCkx2J",
        "outputId": "94b49c31-5465-457d-868c-4d35dd87485c"
      },
      "outputs": [
        {
          "output_type": "stream",
          "name": "stdout",
          "text": [
            "\u001b[1m10/10\u001b[0m \u001b[32m━━━━━━━━━━━━━━━━━━━━\u001b[0m\u001b[37m\u001b[0m \u001b[1m0s\u001b[0m 8ms/step\n",
            "Resumen generado:\n",
            "so i'll switch now to english uh i think it's the it's the language tedx andre the rest all the organizers thank you very much for your invitation it's uh with the an enormous pleasure that uh talking about my dream and trying to spread also the word uh what is my idea what do i want to do the the name of my presentation is it's called blogging for a dream i think you identify what's this this is antarctica southern most southern continent of the this will be a pretty light easygoing i hope you enjoy it and this happened two months ago i received an email from from a company a north american company called quark on this email i had i was they were challenging me something like luis monteiro i know you are interest interested in the antarctica things that surround the antarctic so i challenge you to enter in a where you could win a trip to antarctica this email had something like three four first question to enter in the do you have a passion for polar regions this question to me is pretty simple to the past 10 years i've been a dream that had grown within the years i started 10 years ago watching the stories and tv series regarding bbc tv series national i started investigating a little bit what is what is this continent what it's and i got fashion fascinated completely right now my house it's like a frozen but without the ice something like that magazines postcards dvds books i love the antarctic and it's difficult why are you why do you have a passion do love your wife or do you know why you something you can't explain so for me uh what i would like to to show you is that uh it's a bit difficult to to explain a i think we all have this this difficulty but i would like to ask you to close your eyes for 20 seconds and to hear a sound that was recorded and that was uh that was sent to me by someone that knows this dream that took the took part of this stream it's quite a bit it's a sound recorded in the antarctica so what i ask you is close your eyes for 20 seconds and uh try to imagine something please just yeah no problem as you wish please close your eyes 20 seconds and be part of this world thank you did you feel anything it's it's immersive right it's it's strong it's the sound of a glacier you you are in a it's the sound of a glacier and in the antarctica you will feel uh you will feel that you are in the untouched the most unspoiled and and at earth and well we have to so i think i've passed a little bit what is this passion second question they are you committed to the environment we all right now we we always uh sorry we of course we are committed to the environment and of course i am i try the best as i can to at work at home in my community to reuse to recycle the three hours and to reduce of course so right now global warming is killing the arctic and it's killing the so i'm not here uh i'm not an ecologist or a scientist in fact i am an i.t consultant so something uh different an i.t consultant that wants to go to antarctica so uh of course i am committed and of if i take this chance if i take this chance on this competition of course i will take advantage of it and try to spread the word the word of how this is affecting the antarctic okay another question that was made to me do you have an insatiable urge to uh i really don't think i have to answer because this is my workplace so as you can see i have this little collection about of penguins penguin a penguin it's my favorite it's the funniest and it's also the most amazing animal have you seen a underwater it's like a jet so he sees some krill it's amazing what about blogging do you blog with quite simple well in fact yes i do blog since 2002. i start blogging because i've worked abroad for three years now i've worked in serbia i've worked in brazil and in belgium and that i wanted that my family would be part and would know what i what i was i created a blog a personal blog it's written in portuguese it's called stone blog in fact the blog is called means in portuguese it means i am i am this is what i would like to to to pass this is what i i wanted to pass for my family and for my friends okay i'm not with you guys but i'm on the internet so go check in and what i what are right there it's life stories diaries in portuguese this is i'm really really excited this is my last post in my personal blog that i'm really excited that for the first time i went to my car to the inspection vehicle inspection and it and believe me i tried to go to an inspection at 8 00 a.m in second vine and you will know what i'm talking about so what i did i created the post on the and i've placed the name of my post it's it's a famous sentence of a tv series to to pass to everybody which could vote for for this competition that if i win i'm gonna be creative i'm gonna be uh i'm gonna give the best of me and i will uh i will give you an a legendary description of this of the dream after entering in the competition in one double room antarctica dot com and aim and it's because it's in english okay i have a portuguese and an english blog and after this my friends uh i lost control okay because i started the words uh on the internet and of we've created uh all kinds of registries in all kinds of internet social network networks uh twitter facebook google and in in a short period of time uh for in in facebook our calls in in two months this project has two months it already has something like two to two thousand and five hundred members following this dream and trying to to to because i'm not doing this alone so as i have an enormous group of friends that that is helping me and that are giving me all the strength and all the the energy i need to not to give up and until the end of competition which is in 15 days okay so i have 15 days to gather the most number of votes after a certain period of time we've decided okay we've lost a little bit the control and we said okay it's time to go national let's let's put it on national media mass media let's do what i did i dressed up as a penguin i wanted to fulfill the dream come on what would you do to fulfill a dream so i dressed up as a penguin and sorry but things just started to happen so right now uh after this presentation i will work a little bit and at night i'll be in rtp2 again uh spreading this stream how did we do what's the secret give a hundred percent in everything you you do i really don't have this is not a recipe for or anything but this is how it i'm just myself well this is me this is how i am here there i'm a from villarreal in the north of portugal i live in lisbon i work as an i.t well and i have a dream share the with everybody have fun with it and most of all for me be totally unpredictable and to do this i'll ask you to sing with me this is tedx for the first time people will sing it's quite simple vote in the pingu and let's send him to antarctica are you ready let's send him to one third now i'm in first place i have 15 days left and i have a lot of trying to grab me but they will not make so please go to the website if you want and spread the word and vote a vote is a simple email it's a mix of touristic expedition but i will go with a with a group of which main objective is to spread the global warming so but what i really want is to put my feedback\n",
            "Oraciones seleccionadas: [np.int64(1), np.int64(2), np.int64(4), np.int64(5), np.int64(6), np.int64(8), np.int64(9), np.int64(10), np.int64(11), np.int64(12), np.int64(14), np.int64(16), np.int64(18), np.int64(20), np.int64(21), np.int64(22), np.int64(23), np.int64(25), np.int64(26), np.int64(27), np.int64(28), np.int64(30), np.int64(31), np.int64(33), np.int64(35), np.int64(37), np.int64(39), np.int64(41), np.int64(43), np.int64(45), np.int64(46), np.int64(47), np.int64(48), np.int64(50), np.int64(52), np.int64(54), np.int64(56), np.int64(58), np.int64(60), np.int64(61), np.int64(63), np.int64(65), np.int64(67), np.int64(68), np.int64(69), np.int64(70), np.int64(72), np.int64(73), np.int64(74), np.int64(75), np.int64(76), np.int64(77), np.int64(78), np.int64(79), np.int64(80), np.int64(81), np.int64(83), np.int64(84), np.int64(86), np.int64(87), np.int64(89), np.int64(91), np.int64(92), np.int64(93), np.int64(95), np.int64(97), np.int64(99), np.int64(101), np.int64(103), np.int64(105), np.int64(106), np.int64(108), np.int64(110), np.int64(111), np.int64(112), np.int64(114), np.int64(115), np.int64(116), np.int64(117), np.int64(118), np.int64(119), np.int64(121), np.int64(122), np.int64(123), np.int64(124), np.int64(125), np.int64(127), np.int64(129), np.int64(130), np.int64(131), np.int64(132), np.int64(133), np.int64(134), np.int64(135), np.int64(137), np.int64(139), np.int64(140), np.int64(141), np.int64(142), np.int64(144), np.int64(145), np.int64(147), np.int64(148), np.int64(149), np.int64(151), np.int64(153), np.int64(154), np.int64(155), np.int64(156), np.int64(158), np.int64(159), np.int64(161), np.int64(162), np.int64(163), np.int64(165), np.int64(167), np.int64(168), np.int64(169), np.int64(170), np.int64(171), np.int64(173), np.int64(175), np.int64(177), np.int64(178), np.int64(179), np.int64(180), np.int64(181), np.int64(183), np.int64(184), np.int64(185), np.int64(186), np.int64(188), np.int64(190), np.int64(192), np.int64(194), np.int64(196), np.int64(197), np.int64(198), np.int64(199), np.int64(200), np.int64(201), np.int64(203), np.int64(205), np.int64(206), np.int64(208), np.int64(209), np.int64(211), np.int64(213), np.int64(214), np.int64(215), np.int64(216), np.int64(218), np.int64(219), np.int64(220), np.int64(221), np.int64(223), np.int64(227), np.int64(229), np.int64(231), np.int64(232), np.int64(233), np.int64(235), np.int64(236), np.int64(237), np.int64(239), np.int64(240), np.int64(241), np.int64(242), np.int64(243), np.int64(245), np.int64(246), np.int64(247), np.int64(248), np.int64(249), np.int64(250), np.int64(251), np.int64(252), np.int64(253), np.int64(255), np.int64(256), np.int64(257), np.int64(258), np.int64(260), np.int64(261), np.int64(263), np.int64(264), np.int64(266), np.int64(268), np.int64(269), np.int64(270), np.int64(272), np.int64(274), np.int64(275), np.int64(276), np.int64(277), np.int64(278), np.int64(280), np.int64(281), np.int64(283), np.int64(285), np.int64(286), np.int64(287), np.int64(290), np.int64(291), np.int64(293), np.int64(295), np.int64(296)]\n"
          ]
        }
      ],
      "source": [
        "def generate_extractive_summary(model, texts, embeddings, threshold=0.5):\n",
        "    \"\"\"\n",
        "    Genera un resumen extractivo usando el modelo entrenado\n",
        "    \"\"\"\n",
        "    # Predecir probabilidades\n",
        "    predictions = model.predict(embeddings)\n",
        "\n",
        "    # Seleccionar oraciones con probabilidad > threshold\n",
        "    selected_indices = np.where(predictions > threshold)[0]\n",
        "\n",
        "    # Ordenar por el orden original\n",
        "    selected_indices = sorted(selected_indices)\n",
        "\n",
        "    # Crear el resumen\n",
        "    summary_sentences = [texts[i] for i in selected_indices]\n",
        "    summary = \" \".join(summary_sentences)\n",
        "\n",
        "    return summary, selected_indices\n",
        "\n",
        "# Probar con los datos actuales\n",
        "summary, selected_indices = generate_extractive_summary(model, texts, sentence_embeddings)\n",
        "print(\"Resumen generado:\")\n",
        "print(summary)\n",
        "print(f\"Oraciones seleccionadas: {selected_indices}\")"
      ]
    },
    {
      "cell_type": "code",
      "execution_count": null,
      "metadata": {
        "colab": {
          "base_uri": "https://localhost:8080/"
        },
        "id": "1tVH7MGWkxhJ",
        "outputId": "5d5e4b92-ce00-49bd-e16f-b09b1c8ddd33"
      },
      "outputs": [
        {
          "output_type": "stream",
          "name": "stdout",
          "text": [
            "\u001b[1m1/1\u001b[0m \u001b[32m━━━━━━━━━━━━━━━━━━━━\u001b[0m\u001b[37m\u001b[0m \u001b[1m0s\u001b[0m 36ms/step\n",
            "Texto completo: All right, so here we are, in front of the\n",
            "elephants the cool thing about these guys is that they\n",
            "have really... really really long trunks and that's cool (baaaaaaaaaaahhh!!) and that's pretty much all there is to\n",
            "say\n",
            "\n",
            "Resumen extractivo:\n",
            "All right, so here we are, in front of the\n",
            "elephants the cool thing about these guys is that they\n",
            "have really... and that's cool (baaaaaaaaaaahhh!!) and that's pretty much all there is to\n",
            "say\n"
          ]
        }
      ],
      "source": [
        "def summarize_new_video(video_id, model, embedder, threshold=0.5):\n",
        "    \"\"\"\n",
        "    Función completa para resumir un nuevo video\n",
        "    \"\"\"\n",
        "    # 1. Extraer transcripción\n",
        "    transcript = ytt_api.fetch(video_id)\n",
        "\n",
        "    # 2. Procesar texto\n",
        "    new_texts = []\n",
        "    for entry in transcript:\n",
        "        new_texts.append(entry.text)\n",
        "\n",
        "    # 3. Generar embeddings\n",
        "    new_embeddings = embedder.encode(new_texts)\n",
        "\n",
        "    # 4. Predecir oraciones importantes\n",
        "    predictions = model.predict(new_embeddings)\n",
        "\n",
        "    # 5. Generar resumen\n",
        "    selected_indices = np.where(predictions > threshold)[0]\n",
        "    selected_indices = sorted(selected_indices)\n",
        "    summary_sentences = [new_texts[i] for i in selected_indices]\n",
        "    summary = \" \".join(summary_sentences)\n",
        "\n",
        "    return summary, new_texts, selected_indices\n",
        "\n",
        "# Ejemplo de uso\n",
        "new_video_id = \"jNQXAC9IVRw\"  # El mismo video de prueba\n",
        "summary, all_sentences, selected_indices = summarize_new_video(new_video_id, model, embedder)\n",
        "\n",
        "print(\"Texto completo:\", \" \".join(all_sentences))\n",
        "print(\"\\nResumen extractivo:\")\n",
        "print(summary)"
      ]
    },
    {
      "cell_type": "markdown",
      "metadata": {
        "id": "oRagD9aPzrss"
      },
      "source": [
        "Mejorar modelo?"
      ]
    },
    {
      "cell_type": "code",
      "execution_count": null,
      "metadata": {
        "id": "l5SYGelVzrOc"
      },
      "outputs": [],
      "source": [
        "# Data augmentation para mejorar el entrenamiento\n",
        "def augment_data(embeddings, labels, num_augmented=1000):\n",
        "    \"\"\"\n",
        "    Aumentar datos sintéticamente\n",
        "    \"\"\"\n",
        "    from sklearn.utils import resample\n",
        "\n",
        "    # Enfocarse en la clase minoritaria (oraciones importantes)\n",
        "    important_indices = np.where(labels == 1)[0]\n",
        "    unimportant_indices = np.where(labels == 0)[0]\n",
        "\n",
        "    # Sobremuestrear la clase minoritaria\n",
        "    augmented_important = resample(\n",
        "        embeddings[important_indices],\n",
        "        n_samples=num_augmented,\n",
        "        random_state=42\n",
        "    )\n",
        "\n",
        "    augmented_labels = np.ones(num_augmented)\n",
        "\n",
        "    # Combinar con datos originales\n",
        "    X_augmented = np.vstack([embeddings, augmented_important])\n",
        "    y_augmented = np.concatenate([labels, augmented_labels])\n",
        "\n",
        "    return X_augmented, y_augmented\n",
        "\n",
        "# Mejorar el modelo con más capas\n",
        "def create_advanced_model(input_dim):\n",
        "    model = Sequential([\n",
        "        Dense(512, activation='relu', input_shape=(input_dim,)),\n",
        "        Dropout(0.4),\n",
        "        Dense(256, activation='relu'),\n",
        "        Dropout(0.3),\n",
        "        Dense(128, activation='relu'),\n",
        "        Dense(64, activation='relu'),\n",
        "        Dense(32, activation='relu'),\n",
        "        Dense(1, activation='sigmoid')\n",
        "    ])\n",
        "\n",
        "    model.compile(\n",
        "        optimizer=Adam(learning_rate=0.0005),\n",
        "        loss='binary_crossentropy',\n",
        "        metrics=['accuracy', 'precision', 'recall', 'f1_score']\n",
        "    )\n",
        "\n",
        "    return model"
      ]
    }
  ],
  "metadata": {
    "colab": {
      "provenance": [],
      "authorship_tag": "ABX9TyOG9eD3vyQubMBWikabTtnG",
      "include_colab_link": true
    },
    "kernelspec": {
      "display_name": "Python 3",
      "name": "python3"
    },
    "language_info": {
      "name": "python"
    }
  },
  "nbformat": 4,
  "nbformat_minor": 0
}