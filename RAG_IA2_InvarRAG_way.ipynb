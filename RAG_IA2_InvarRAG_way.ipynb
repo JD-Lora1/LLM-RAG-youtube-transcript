{
  "nbformat": 4,
  "nbformat_minor": 0,
  "metadata": {
    "colab": {
      "provenance": [],
      "authorship_tag": "ABX9TyNzsNOrq7XMzthZeZftvPNo",
      "include_colab_link": true
    },
    "kernelspec": {
      "name": "python3",
      "display_name": "Python 3"
    },
    "language_info": {
      "name": "python"
    }
  },
  "cells": [
    {
      "cell_type": "markdown",
      "metadata": {
        "id": "view-in-github",
        "colab_type": "text"
      },
      "source": [
        "<a href=\"https://colab.research.google.com/github/JD-Lora1/LLM-RAG-youtube-transcript/blob/main/RAG_IA2_InvarRAG_way.ipynb\" target=\"_parent\"><img src=\"https://colab.research.google.com/assets/colab-badge.svg\" alt=\"Open In Colab\"/></a>"
      ]
    },
    {
      "cell_type": "code",
      "source": [
        "# Instalar las librerías necesarias.\n",
        "!pip install -q chromadb sentence-transformers youtube-transcript-api transformers accelerate bitsandbytes\n",
        "!pip install -q torch\n",
        "!pip install -q einops\n",
        "\n",
        "# --- 1. Importar Librerías ---\n",
        "from youtube_transcript_api import YouTubeTranscriptApi\n",
        "import chromadb\n",
        "from chromadb.utils import embedding_functions\n",
        "from transformers import AutoTokenizer, AutoModelForCausalLM, pipeline\n",
        "import torch\n",
        "\n",
        "# --- 2. Extracción de la Transcripción y Almacenamiento en ChromaDB ---\n",
        "\n",
        "# Video de ejemplo\n",
        "video_id = \"e1mOmdykmwI\"\n",
        "\n",
        "# Usamos tu método de API, que funciona en tu entorno\n",
        "ytt_api = YouTubeTranscriptApi()\n",
        "\n",
        "try:\n",
        "    transcript = ytt_api.fetch(video_id)\n",
        "    print(\"Transcripción extraída exitosamente.\")\n",
        "except Exception as e:\n",
        "    print(f\"Error al extraer la transcripción: {e}\")\n",
        "    transcript = []\n",
        "\n",
        "if not transcript:\n",
        "    print(\"No hay transcripción para procesar. Saliendo.\")\n",
        "else:\n",
        "    # Procesar la transcripción y extraer textos y metadatos\n",
        "    texts = []\n",
        "    metadatas = []\n",
        "    for i, entry in enumerate(transcript):\n",
        "        texts.append(entry.text)\n",
        "        metadatas.append({\n",
        "            'start': entry.start,\n",
        "            'duration': entry.duration,\n",
        "            'order': i\n",
        "        })\n",
        "\n",
        "    # Inicializar la función de embedding\n",
        "    sentence_transformer_ef = embedding_functions.SentenceTransformerEmbeddingFunction(\n",
        "        model_name=\"all-MiniLM-L6-v2\"\n",
        "    )\n",
        "\n",
        "    # Crear el cliente de ChromaDB\n",
        "    chroma_client = chromadb.Client()\n",
        "\n",
        "    # Corregido: Manejo de errores más robusto al eliminar la colección\n",
        "    try:\n",
        "        chroma_client.delete_collection(name=\"youtube_transcripts\")\n",
        "        print(\"Colección existente eliminada para empezar de cero.\")\n",
        "    except Exception as e:\n",
        "        print(f\"No se pudo eliminar la colección (posiblemente porque no existía). Continuando...\")\n",
        "        pass\n",
        "\n",
        "    # Crear una colección con la función de embedding\n",
        "    collection = chroma_client.create_collection(\n",
        "        name=\"youtube_transcripts\",\n",
        "        embedding_function=sentence_transformer_ef\n",
        "    )\n",
        "\n",
        "    # Generar IDs únicos para cada segmento\n",
        "    ids = [str(i) for i in range(len(texts))]\n",
        "\n",
        "    # Añadir a la colección\n",
        "    collection.add(\n",
        "        documents=texts,\n",
        "        metadatas=metadatas,\n",
        "        ids=ids\n",
        "    )\n",
        "    print(\"Documentos almacenados en ChromaDB.\")\n",
        "\n",
        "    # --- 3. Implementación del Pipeline RAG con LLM Local ---\n",
        "\n",
        "    # Cargar el modelo Qwen2-0.5B-Instruct y el tokenizador\n",
        "    model_name = \"Qwen/Qwen2-0.5B-Instruct\"\n",
        "    try:\n",
        "        print(f\"\\nCargando el modelo {model_name}...\")\n",
        "        tokenizer = AutoTokenizer.from_pretrained(model_name)\n",
        "        model = AutoModelForCausalLM.from_pretrained(\n",
        "            model_name,\n",
        "            device_map=\"auto\",\n",
        "            torch_dtype=torch.float16\n",
        "        )\n",
        "        # Configurar el pipeline de generación de texto\n",
        "        pipe = pipeline(\n",
        "            \"text-generation\",\n",
        "            model=model,\n",
        "            tokenizer=tokenizer,\n",
        "            max_new_tokens=256,\n",
        "            do_sample=True,\n",
        "            temperature=0.7,\n",
        "            top_k=50\n",
        "        )\n",
        "        print(\"Modelo cargado exitosamente.\")\n",
        "    except Exception as e:\n",
        "        print(f\"Error al cargar el modelo. ¿Tienes suficiente VRAM en la GPU? {e}\")\n",
        "        pipe = None\n",
        "\n",
        "    if pipe:\n",
        "        # Función para el pipeline completo de RAG\n",
        "        def rag_pipeline_qwen(query: str, collection, pipe, n_results: int = 5):\n",
        "            # A) Recuperación: Buscar documentos relevantes en ChromaDB\n",
        "            retrieved_docs = collection.query(\n",
        "                query_texts=[query],\n",
        "                n_results=n_results\n",
        "            )['documents'][0]\n",
        "\n",
        "            # B) Aumentación: Construir el prompt con el contexto recuperado\n",
        "            context = \"\\n\".join(retrieved_docs)\n",
        "            messages = [\n",
        "                {\"role\": \"system\", \"content\": \"You are a helpful assistant.\"},\n",
        "                {\"role\": \"user\", \"content\": f\"Based on the following context, answer the question. If the answer is not in the context, state that you don't have the information. \\n\\nContext:\\n{context}\\n\\nQuestion: {query}\"}\n",
        "            ]\n",
        "\n",
        "            # C) Generación: Usar el LLM para generar una respuesta\n",
        "            prompt = tokenizer.apply_chat_template(messages, tokenize=False, add_generation_prompt=True)\n",
        "            outputs = pipe(prompt)\n",
        "            # Extraer solo la respuesta del modelo, sin el prompt\n",
        "            generated_response = outputs[0]['generated_text'][len(prompt):]\n",
        "\n",
        "            return generated_response\n",
        "\n",
        "        # Ejemplo de uso del pipeline RAG\n",
        "        user_query = \"De qué trata el video?\"\n",
        "        print(f\"\\n--- Pregunta al RAG: '{user_query}' ---\")\n",
        "        final_response = rag_pipeline_qwen(user_query, collection, pipe)\n",
        "        print(f\"--- Respuesta del LLM (Qwen) ---\\n{final_response}\")"
      ],
      "metadata": {
        "colab": {
          "base_uri": "https://localhost:8080/"
        },
        "id": "YhRz8i0z_gnK",
        "outputId": "3ea6431e-c28f-4864-ae09-992929acb72c"
      },
      "execution_count": null,
      "outputs": [
        {
          "output_type": "stream",
          "name": "stdout",
          "text": [
            "Transcripción extraída exitosamente.\n",
            "Colección existente eliminada para empezar de cero.\n",
            "Documentos almacenados en ChromaDB.\n",
            "\n",
            "Cargando el modelo Qwen/Qwen2-0.5B-Instruct...\n"
          ]
        },
        {
          "output_type": "stream",
          "name": "stderr",
          "text": [
            "Device set to use cpu\n"
          ]
        },
        {
          "output_type": "stream",
          "name": "stdout",
          "text": [
            "Modelo cargado exitosamente.\n",
            "\n",
            "--- Pregunta al RAG: 'De qué trata el video?' ---\n",
            "--- Respuesta del LLM (Qwen) ---\n",
            "El video trata sobre la conexión entre las emociones y la música.\n"
          ]
        }
      ]
    },
    {
      "cell_type": "code",
      "execution_count": null,
      "metadata": {
        "colab": {
          "base_uri": "https://localhost:8080/"
        },
        "id": "X3JIRLuV95KL",
        "outputId": "63d188d3-529f-4eab-95ae-12d77afdd906"
      },
      "outputs": [
        {
          "output_type": "stream",
          "name": "stdout",
          "text": [
            "Transcripción extraída exitosamente.\n"
          ]
        }
      ],
      "source": []
    }
  ]
}